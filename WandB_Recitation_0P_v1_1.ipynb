{
  "cells": [
    {
      "cell_type": "markdown",
      "metadata": {
        "id": "view-in-github",
        "colab_type": "text"
      },
      "source": [
        "<a href=\"https://colab.research.google.com/github/jyothi8203/CMU/blob/main/WandB_Recitation_0P_v1_1.ipynb\" target=\"_parent\"><img src=\"https://colab.research.google.com/assets/colab-badge.svg\" alt=\"Open In Colab\"/></a>"
      ]
    },
    {
      "cell_type": "markdown",
      "source": [
        "# Recitation 0P: Weights and Biases\n",
        "\n",
        "This recitation notebook will detail the importance of performance visualization, model tracking and version control, and the workflow of hyperparameter tuning using [WandB](https://wandb.ai/) -- a widely used ML Development Tool -- using the PyTorch CIFAR10 dataset as a pedagogical example."
      ],
      "metadata": {
        "id": "dkPvCEWkJCKC"
      }
    },
    {
      "cell_type": "markdown",
      "source": [
        "# Installation and Libraries"
      ],
      "metadata": {
        "id": "0JP8iuSk28fJ"
      }
    },
    {
      "cell_type": "code",
      "source": [
        "### installing WandB\n",
        "!pip install wandb -qqq"
      ],
      "metadata": {
        "id": "1BarSfPGJnD2"
      },
      "execution_count": null,
      "outputs": []
    },
    {
      "cell_type": "code",
      "source": [
        "import os\n",
        "import wandb\n",
        "import torch\n",
        "import torch.nn as nn\n",
        "import torch.optim as optim\n",
        "from torchvision import datasets\n",
        "from torchvision.transforms import ToTensor\n",
        "\n",
        "from tqdm import tqdm\n",
        "\n",
        "device = \"cuda\" if torch.cuda.is_available() else \"cpu\"\n",
        "print(\"Device: \", device)"
      ],
      "metadata": {
        "colab": {
          "base_uri": "https://localhost:8080/"
        },
        "id": "jrb1sahDJ0Ky",
        "outputId": "b31e3aad-ff82-4702-f43d-f801223c6db3"
      },
      "execution_count": null,
      "outputs": [
        {
          "output_type": "stream",
          "name": "stdout",
          "text": [
            "Device:  cuda\n"
          ]
        }
      ]
    },
    {
      "cell_type": "code",
      "source": [
        "os.environ[\"WANDB_API_KEY\"] = \"\"        ## enter API KEY\n",
        "wandb.login()"
      ],
      "metadata": {
        "colab": {
          "base_uri": "https://localhost:8080/"
        },
        "id": "zugYPYbVJ8IL",
        "outputId": "90df3839-d97d-46c0-dd75-42e6515f1bab"
      },
      "execution_count": null,
      "outputs": [
        {
          "output_type": "execute_result",
          "data": {
            "text/plain": [
              "True"
            ]
          },
          "metadata": {},
          "execution_count": 22
        }
      ]
    },
    {
      "cell_type": "markdown",
      "source": [
        "# Dataset"
      ],
      "metadata": {
        "id": "6kCHdfojKoVI"
      }
    },
    {
      "cell_type": "code",
      "source": [
        "data_train      = datasets.CIFAR10(\n",
        "    root        = \"data\",\n",
        "    train       = True,\n",
        "    transform   = ToTensor(),\n",
        "    download    = True,\n",
        ")\n",
        "\n",
        "data_test       = datasets.CIFAR10(\n",
        "    root        = \"data\",\n",
        "    train       = False,\n",
        "    transform   = ToTensor(),\n",
        "    download    = True,\n",
        ")"
      ],
      "metadata": {
        "colab": {
          "base_uri": "https://localhost:8080/"
        },
        "id": "fUSFNaT5Kt2D",
        "outputId": "392f3bfa-3781-487e-df11-c6d7f9ada366"
      },
      "execution_count": null,
      "outputs": [
        {
          "output_type": "stream",
          "name": "stdout",
          "text": [
            "Files already downloaded and verified\n",
            "Files already downloaded and verified\n"
          ]
        }
      ]
    },
    {
      "cell_type": "code",
      "source": [
        "def build_data(batch_size, data_train, data_test):\n",
        "    ''' creates the training and validation DataLoaders for efficient batch iterations '''\n",
        "    train_loader    = torch.utils.data.DataLoader(data_train, batch_size=batch_size, shuffle=True)\n",
        "    test_loader     = torch.utils.data.DataLoader(data_test, batch_size=batch_size, shuffle=False)\n",
        "\n",
        "    return train_loader, test_loader"
      ],
      "metadata": {
        "id": "LM61VpIuLDzV"
      },
      "execution_count": null,
      "outputs": []
    },
    {
      "cell_type": "code",
      "source": [
        "train_loader, test_loader = build_data(64, data_train, data_test)\n",
        "\n",
        "for x, y in train_loader:\n",
        "    print(f\"x: {x}\\n\")\n",
        "    print(f\"y: {y}\")\n",
        "\n",
        "    break"
      ],
      "metadata": {
        "colab": {
          "base_uri": "https://localhost:8080/"
        },
        "id": "BGKmINE6MBZ6",
        "outputId": "86b3a3d2-5db4-4bbd-fe6d-9ea66dec9b52"
      },
      "execution_count": null,
      "outputs": [
        {
          "output_type": "stream",
          "name": "stdout",
          "text": [
            "x: tensor([[[[1.0000, 1.0000, 1.0000,  ..., 0.9373, 0.9294, 0.9098],\n",
            "          [1.0000, 0.9961, 0.9961,  ..., 0.9137, 0.9059, 0.8902],\n",
            "          [1.0000, 1.0000, 1.0000,  ..., 0.8980, 0.8902, 0.8784],\n",
            "          ...,\n",
            "          [0.4824, 0.4745, 0.4824,  ..., 0.4745, 0.4706, 0.4706],\n",
            "          [0.4980, 0.4863, 0.4824,  ..., 0.4706, 0.4745, 0.4706],\n",
            "          [0.4902, 0.4784, 0.4784,  ..., 0.4745, 0.4784, 0.4667]],\n",
            "\n",
            "         [[1.0000, 1.0000, 1.0000,  ..., 0.9412, 0.9412, 0.9255],\n",
            "          [1.0000, 0.9961, 0.9961,  ..., 0.9176, 0.9176, 0.9098],\n",
            "          [1.0000, 1.0000, 1.0000,  ..., 0.9098, 0.9098, 0.9020],\n",
            "          ...,\n",
            "          [0.4784, 0.4706, 0.4784,  ..., 0.4706, 0.4667, 0.4667],\n",
            "          [0.4941, 0.4824, 0.4784,  ..., 0.4667, 0.4706, 0.4667],\n",
            "          [0.4863, 0.4745, 0.4745,  ..., 0.4706, 0.4745, 0.4627]],\n",
            "\n",
            "         [[1.0000, 1.0000, 1.0000,  ..., 0.9569, 0.9569, 0.9451],\n",
            "          [1.0000, 0.9961, 0.9961,  ..., 0.9412, 0.9451, 0.9412],\n",
            "          [1.0000, 1.0000, 1.0000,  ..., 0.9412, 0.9451, 0.9412],\n",
            "          ...,\n",
            "          [0.4980, 0.4902, 0.4980,  ..., 0.4627, 0.4588, 0.4588],\n",
            "          [0.5137, 0.5020, 0.4980,  ..., 0.4588, 0.4627, 0.4588],\n",
            "          [0.5059, 0.4941, 0.4941,  ..., 0.4627, 0.4667, 0.4549]]],\n",
            "\n",
            "\n",
            "        [[[0.2157, 0.2471, 0.2784,  ..., 0.1569, 0.1882, 0.2392],\n",
            "          [0.2353, 0.2784, 0.3176,  ..., 0.1608, 0.1765, 0.2157],\n",
            "          [0.2941, 0.2824, 0.2745,  ..., 0.2941, 0.2471, 0.2000],\n",
            "          ...,\n",
            "          [0.3255, 0.2471, 0.2392,  ..., 0.2824, 0.2667, 0.3451],\n",
            "          [0.3569, 0.2824, 0.2471,  ..., 0.3333, 0.2627, 0.3098],\n",
            "          [0.4078, 0.3961, 0.3412,  ..., 0.3922, 0.3020, 0.3333]],\n",
            "\n",
            "         [[0.4431, 0.4588, 0.4784,  ..., 0.4118, 0.4314, 0.4549],\n",
            "          [0.4706, 0.4902, 0.5059,  ..., 0.4078, 0.4353, 0.4745],\n",
            "          [0.5059, 0.4941, 0.4824,  ..., 0.4392, 0.4549, 0.4549],\n",
            "          ...,\n",
            "          [0.5176, 0.4431, 0.4392,  ..., 0.4745, 0.4745, 0.5451],\n",
            "          [0.5412, 0.4627, 0.4431,  ..., 0.5059, 0.4549, 0.5059],\n",
            "          [0.5804, 0.5529, 0.5216,  ..., 0.5294, 0.4627, 0.5137]],\n",
            "\n",
            "         [[0.2235, 0.2471, 0.2706,  ..., 0.1412, 0.1647, 0.1961],\n",
            "          [0.2392, 0.2706, 0.2902,  ..., 0.1490, 0.1725, 0.2118],\n",
            "          [0.2745, 0.2667, 0.2549,  ..., 0.2275, 0.2196, 0.2039],\n",
            "          ...,\n",
            "          [0.2667, 0.2078, 0.2118,  ..., 0.2275, 0.2000, 0.2784],\n",
            "          [0.2706, 0.2078, 0.1882,  ..., 0.2863, 0.2039, 0.2353],\n",
            "          [0.3059, 0.2824, 0.2392,  ..., 0.3216, 0.2353, 0.2510]]],\n",
            "\n",
            "\n",
            "        [[[0.1333, 0.1686, 0.1647,  ..., 0.6667, 0.6510, 0.5922],\n",
            "          [0.2353, 0.3176, 0.3843,  ..., 0.6941, 0.6902, 0.6510],\n",
            "          [0.5216, 0.5725, 0.6196,  ..., 0.6824, 0.6706, 0.6549],\n",
            "          ...,\n",
            "          [0.3490, 0.3490, 0.3569,  ..., 0.1843, 0.3176, 0.3922],\n",
            "          [0.3412, 0.3412, 0.3490,  ..., 0.1059, 0.1294, 0.1647],\n",
            "          [0.3333, 0.3373, 0.3412,  ..., 0.1137, 0.1294, 0.1373]],\n",
            "\n",
            "         [[0.1725, 0.2000, 0.1843,  ..., 0.5412, 0.5216, 0.4745],\n",
            "          [0.2118, 0.2902, 0.3490,  ..., 0.5647, 0.5569, 0.5294],\n",
            "          [0.4431, 0.4863, 0.5294,  ..., 0.5529, 0.5412, 0.5333],\n",
            "          ...,\n",
            "          [0.3725, 0.3725, 0.3804,  ..., 0.2235, 0.3490, 0.4235],\n",
            "          [0.3647, 0.3647, 0.3725,  ..., 0.1490, 0.1647, 0.2000],\n",
            "          [0.3569, 0.3608, 0.3647,  ..., 0.1569, 0.1647, 0.1725]],\n",
            "\n",
            "         [[0.0667, 0.0941, 0.0824,  ..., 0.3098, 0.2980, 0.2667],\n",
            "          [0.0824, 0.1412, 0.1804,  ..., 0.3490, 0.3412, 0.3216],\n",
            "          [0.2824, 0.3020, 0.3176,  ..., 0.3529, 0.3333, 0.3294],\n",
            "          ...,\n",
            "          [0.3725, 0.3725, 0.3804,  ..., 0.2510, 0.3490, 0.4118],\n",
            "          [0.3647, 0.3647, 0.3725,  ..., 0.1647, 0.1725, 0.1961],\n",
            "          [0.3569, 0.3608, 0.3608,  ..., 0.1490, 0.1647, 0.1647]]],\n",
            "\n",
            "\n",
            "        ...,\n",
            "\n",
            "\n",
            "        [[[0.6745, 0.6353, 0.6353,  ..., 0.6471, 0.6392, 0.6549],\n",
            "          [0.7020, 0.6549, 0.6431,  ..., 0.6588, 0.6510, 0.6667],\n",
            "          [0.7412, 0.6863, 0.6549,  ..., 0.6627, 0.6588, 0.6745],\n",
            "          ...,\n",
            "          [0.7529, 0.7529, 0.6902,  ..., 0.8510, 0.8549, 0.8549],\n",
            "          [0.7412, 0.7255, 0.7059,  ..., 0.8588, 0.8431, 0.8431],\n",
            "          [0.7020, 0.7098, 0.7137,  ..., 0.8667, 0.8549, 0.8510]],\n",
            "\n",
            "         [[0.8510, 0.8510, 0.8627,  ..., 0.8588, 0.8510, 0.8627],\n",
            "          [0.8706, 0.8745, 0.8902,  ..., 0.8745, 0.8706, 0.8824],\n",
            "          [0.8667, 0.8745, 0.8824,  ..., 0.8824, 0.8784, 0.8863],\n",
            "          ...,\n",
            "          [0.7059, 0.7137, 0.6588,  ..., 0.8235, 0.8275, 0.8353],\n",
            "          [0.6980, 0.6824, 0.6667,  ..., 0.8314, 0.8157, 0.8235],\n",
            "          [0.6667, 0.6745, 0.6784,  ..., 0.8392, 0.8275, 0.8275]],\n",
            "\n",
            "         [[0.9373, 0.9373, 0.9451,  ..., 0.9412, 0.9373, 0.9373],\n",
            "          [0.9333, 0.9451, 0.9647,  ..., 0.9647, 0.9608, 0.9647],\n",
            "          [0.9059, 0.9333, 0.9608,  ..., 0.9725, 0.9686, 0.9725],\n",
            "          ...,\n",
            "          [0.6549, 0.6549, 0.6078,  ..., 0.7843, 0.7843, 0.8000],\n",
            "          [0.6353, 0.6196, 0.6039,  ..., 0.7961, 0.7804, 0.7961],\n",
            "          [0.6039, 0.6118, 0.6157,  ..., 0.8078, 0.7961, 0.8039]]],\n",
            "\n",
            "\n",
            "        [[[0.5176, 0.4588, 0.4706,  ..., 0.3176, 0.3333, 0.3412],\n",
            "          [0.5059, 0.4863, 0.4510,  ..., 0.3529, 0.3294, 0.3922],\n",
            "          [0.4902, 0.5020, 0.4431,  ..., 0.3216, 0.3412, 0.3686],\n",
            "          ...,\n",
            "          [0.7137, 0.6824, 0.7294,  ..., 0.4706, 0.4471, 0.4784],\n",
            "          [0.6588, 0.6784, 0.7020,  ..., 0.4941, 0.5059, 0.5059],\n",
            "          [0.6392, 0.6353, 0.6627,  ..., 0.4314, 0.5020, 0.5294]],\n",
            "\n",
            "         [[0.4784, 0.4235, 0.4314,  ..., 0.2784, 0.2824, 0.2824],\n",
            "          [0.4902, 0.4706, 0.4353,  ..., 0.2863, 0.2471, 0.3176],\n",
            "          [0.5059, 0.5137, 0.4549,  ..., 0.2627, 0.2745, 0.3020],\n",
            "          ...,\n",
            "          [0.7569, 0.7216, 0.7725,  ..., 0.5922, 0.5686, 0.6078],\n",
            "          [0.7098, 0.7294, 0.7529,  ..., 0.6078, 0.6157, 0.6196],\n",
            "          [0.6980, 0.6941, 0.7255,  ..., 0.5451, 0.6118, 0.6353]],\n",
            "\n",
            "         [[0.4745, 0.4196, 0.4275,  ..., 0.2863, 0.2745, 0.2706],\n",
            "          [0.4863, 0.4667, 0.4314,  ..., 0.3020, 0.2510, 0.3059],\n",
            "          [0.4902, 0.5020, 0.4431,  ..., 0.2745, 0.2706, 0.2902],\n",
            "          ...,\n",
            "          [0.6039, 0.5804, 0.6353,  ..., 0.4588, 0.4353, 0.4627],\n",
            "          [0.5490, 0.5804, 0.6118,  ..., 0.4667, 0.4784, 0.4745],\n",
            "          [0.5373, 0.5373, 0.5765,  ..., 0.4118, 0.4784, 0.4980]]],\n",
            "\n",
            "\n",
            "        [[[0.5490, 0.5569, 0.5686,  ..., 0.6118, 0.6039, 0.5961],\n",
            "          [0.4980, 0.5098, 0.5255,  ..., 0.6667, 0.6510, 0.6431],\n",
            "          [0.7020, 0.6980, 0.6980,  ..., 0.7176, 0.7216, 0.6863],\n",
            "          ...,\n",
            "          [0.4314, 0.4275, 0.4275,  ..., 0.4980, 0.5059, 0.5176],\n",
            "          [0.4431, 0.4588, 0.4706,  ..., 0.5059, 0.5176, 0.5098],\n",
            "          [0.4353, 0.4627, 0.4745,  ..., 0.5137, 0.5098, 0.5098]],\n",
            "\n",
            "         [[0.4784, 0.4863, 0.5020,  ..., 0.5216, 0.5255, 0.5176],\n",
            "          [0.4157, 0.4275, 0.4431,  ..., 0.5569, 0.5569, 0.5451],\n",
            "          [0.6118, 0.6039, 0.6039,  ..., 0.6157, 0.6118, 0.5725],\n",
            "          ...,\n",
            "          [0.4902, 0.4863, 0.4784,  ..., 0.5490, 0.5529, 0.5647],\n",
            "          [0.4902, 0.5059, 0.5098,  ..., 0.5569, 0.5647, 0.5569],\n",
            "          [0.4863, 0.5098, 0.5137,  ..., 0.5608, 0.5569, 0.5569]],\n",
            "\n",
            "         [[0.3765, 0.3843, 0.3804,  ..., 0.3843, 0.3765, 0.3686],\n",
            "          [0.2824, 0.2980, 0.3216,  ..., 0.3843, 0.4000, 0.3922],\n",
            "          [0.4549, 0.4510, 0.4588,  ..., 0.4392, 0.4471, 0.4118],\n",
            "          ...,\n",
            "          [0.5922, 0.5882, 0.5843,  ..., 0.6549, 0.6549, 0.6667],\n",
            "          [0.5922, 0.6078, 0.6118,  ..., 0.6627, 0.6706, 0.6588],\n",
            "          [0.5882, 0.6157, 0.6078,  ..., 0.6706, 0.6627, 0.6588]]]])\n",
            "\n",
            "y: tensor([9, 5, 1, 6, 0, 1, 1, 3, 8, 4, 8, 5, 2, 4, 7, 5, 2, 0, 8, 2, 2, 7, 5, 7,\n",
            "        9, 2, 5, 5, 2, 1, 2, 0, 7, 0, 9, 2, 4, 6, 2, 6, 5, 7, 4, 1, 0, 4, 5, 6,\n",
            "        3, 8, 6, 2, 3, 5, 6, 3, 9, 1, 6, 9, 1, 9, 5, 4])\n"
          ]
        }
      ]
    },
    {
      "cell_type": "markdown",
      "source": [
        "# Network"
      ],
      "metadata": {
        "id": "TDdTm3dPLTsM"
      }
    },
    {
      "cell_type": "code",
      "source": [
        "class Network(nn.Module):\n",
        "    def __init__(self):\n",
        "\n",
        "        super(Network, self).__init__()\n",
        "\n",
        "        self.CNN = nn.Sequential(\n",
        "            nn.Conv2d(in_channels=3, out_channels=64, kernel_size=3, stride=1, padding=2),\n",
        "            nn.BatchNorm2d(64),\n",
        "            nn.ReLU(),\n",
        "\n",
        "            nn.AvgPool2d(kernel_size=9),\n",
        "            nn.Flatten()\n",
        "        )\n",
        "\n",
        "        self.classification = nn.Linear(576, 10)\n",
        "\n",
        "    def forward(self, x):\n",
        "        x_cnn   = self.CNN(x)\n",
        "        res     = self.classification(x_cnn)\n",
        "\n",
        "        return res"
      ],
      "metadata": {
        "id": "hzZSM_gNLkNZ"
      },
      "execution_count": null,
      "outputs": []
    },
    {
      "cell_type": "code",
      "source": [
        "model = Network().to(device)\n",
        "print(model)\n",
        "\n",
        "model(x.to(device)).shape"
      ],
      "metadata": {
        "colab": {
          "base_uri": "https://localhost:8080/"
        },
        "id": "ItoyxE6iL7qm",
        "outputId": "e668c025-fc7f-4b7f-f9e9-89dd92c5a3d5"
      },
      "execution_count": null,
      "outputs": [
        {
          "output_type": "stream",
          "name": "stdout",
          "text": [
            "Network(\n",
            "  (CNN): Sequential(\n",
            "    (0): Conv2d(3, 64, kernel_size=(3, 3), stride=(1, 1), padding=(2, 2))\n",
            "    (1): BatchNorm2d(64, eps=1e-05, momentum=0.1, affine=True, track_running_stats=True)\n",
            "    (2): ReLU()\n",
            "    (3): AvgPool2d(kernel_size=9, stride=9, padding=0)\n",
            "    (4): Flatten(start_dim=1, end_dim=-1)\n",
            "  )\n",
            "  (classification): Linear(in_features=576, out_features=10, bias=True)\n",
            ")\n"
          ]
        },
        {
          "output_type": "execute_result",
          "data": {
            "text/plain": [
              "torch.Size([64, 10])"
            ]
          },
          "metadata": {},
          "execution_count": 31
        }
      ]
    },
    {
      "cell_type": "markdown",
      "source": [
        "# Training Loop Helper Functions"
      ],
      "metadata": {
        "id": "r2fb6Yu0280f"
      }
    },
    {
      "cell_type": "code",
      "source": [
        "def get_optim(optimizer, learning_rate, model):\n",
        "  if optimizer == \"sgd\":\n",
        "    return optim.SGD(model.parameters(), lr=learning_rate)\n",
        "  else:\n",
        "    return optim.Adam(model.parameters(), lr=learning_rate)"
      ],
      "metadata": {
        "id": "ZGwqPpuNMuex"
      },
      "execution_count": null,
      "outputs": []
    },
    {
      "cell_type": "code",
      "source": [
        "def train_epoch(model, loader, optimizer, criterion, scaler):\n",
        "    num_correct = 0\n",
        "    total_loss  = 0\n",
        "\n",
        "    for i, (x, y) in enumerate(loader):\n",
        "          optimizer.zero_grad()\n",
        "\n",
        "          x = x.cuda()\n",
        "          y = y.cuda()\n",
        "\n",
        "          with torch.cuda.amp.autocast():\n",
        "              outputs   = model(x)\n",
        "              loss      = criterion(outputs, y)\n",
        "\n",
        "          total_loss += float(loss)\n",
        "\n",
        "          scaler.scale(loss).backward()\n",
        "          scaler.step(optimizer)\n",
        "          scaler.update()\n",
        "    ep_loss = float(total_loss / len(loader))\n",
        "\n",
        "    return model, ep_loss"
      ],
      "metadata": {
        "id": "AIEcTwmeM0Ul"
      },
      "execution_count": null,
      "outputs": []
    },
    {
      "cell_type": "code",
      "source": [
        "def train(model, finish=True):\n",
        "\n",
        "  ''' don't worry if these functions don't make complete sense yet, as\n",
        "        you will be very familiar with it after HW1\n",
        "  '''\n",
        "\n",
        "  best_acc = 0\n",
        "\n",
        "  for epoch in range(run_config[\"epochs\"]):\n",
        "      batch_bar = tqdm(total=len(train_loader), dynamic_ncols=True, leave=False, position=0, desc=\"Train\")\n",
        "\n",
        "      num_correct   = 0\n",
        "      total_loss    = 0\n",
        "\n",
        "      for i, (x, y) in enumerate(train_loader):\n",
        "          optimizer.zero_grad()\n",
        "\n",
        "          x = x.cuda()\n",
        "          y = y.cuda()\n",
        "\n",
        "          with torch.cuda.amp.autocast():\n",
        "              outputs   = model(x)\n",
        "              loss      = criterion(outputs, y)\n",
        "\n",
        "          num_correct   += int((torch.argmax(outputs, axis=1) == y).sum())\n",
        "          total_loss    += float(loss)\n",
        "\n",
        "          batch_bar.set_postfix(\n",
        "              acc=\"{:.04f}%\".format(100 * num_correct / ((i + 1) * run_config[\"batch_size\"])),\n",
        "              loss=\"{:.04f}\".format(float(total_loss / (i + 1))),\n",
        "              num_correct=num_correct,\n",
        "              lr=\"{:.04f}\".format(float(optimizer.param_groups[0]['lr'])))\n",
        "\n",
        "          scaler.scale(loss).backward()\n",
        "          scaler.step(optimizer)\n",
        "          scaler.update()\n",
        "\n",
        "\n",
        "          batch_bar.update()\n",
        "      batch_bar.close()\n",
        "\n",
        "      train_loss = float(total_loss / len(train_loader))\n",
        "      train_acc = 100 * num_correct / (len(train_loader) * run_config[\"batch_size\"])\n",
        "      lr = float(optimizer.param_groups[0]['lr'])\n",
        "\n",
        "      print(\"Epoch {}/{}: Train Acc {:.04f}%, Train Loss {:.04f}, Learning Rate {:.04f}\".format(\n",
        "          epoch + 1,\n",
        "          run_config[\"epochs\"],\n",
        "          train_acc ,\n",
        "          train_loss,\n",
        "          lr\n",
        "          )\n",
        "      )\n",
        "\n",
        "      ## creating dictionary to log relevant model metrics\n",
        "      metrics = {\n",
        "          \"train_loss\"  : train_loss,\n",
        "          \"train_acc\"   : train_acc,\n",
        "          'lr'          : lr\n",
        "      }\n",
        "\n",
        "      ## logging metrics to WandB\n",
        "      wandb.log(metrics)\n",
        "\n",
        "      # updating the model version\n",
        "      if train_acc > best_acc:\n",
        "        best_acc = train_acc\n",
        "\n",
        "        # saving the model and optimizer states\n",
        "        torch.save({\n",
        "              'model_state_dict'        : model.state_dict(),\n",
        "              'optimizer_state_dict'    : optimizer.state_dict()\n",
        "              }, \"Model\")\n",
        "\n",
        "        # creating WandB Artifact\n",
        "        model_artifact = wandb.Artifact(run_config['model'], type='model')\n",
        "\n",
        "        # Adding model file to Artifact\n",
        "        model_artifact.add_file(\"Model\")\n",
        "\n",
        "        # Saving Artifact to WandB\n",
        "        run.log_artifact(model_artifact)\n",
        "\n",
        "  if finish: wandb.finish()"
      ],
      "metadata": {
        "id": "JQEvLiM_M7zM"
      },
      "execution_count": null,
      "outputs": []
    },
    {
      "cell_type": "markdown",
      "source": [
        "# Basic Usage\n",
        "\n",
        "You can run this training function and log the performance of your choice into the WandB GUI. This simple method will allow you to monitor trends in a specific run configuration and compare model performance across different configurations."
      ],
      "metadata": {
        "id": "SNgqfASKOuKl"
      }
    },
    {
      "cell_type": "code",
      "source": [
        "run_config = {\n",
        "    'epochs'    : 5,\n",
        "    'batch_size': 64,\n",
        "\n",
        "    'model'     : '1-2dcnn',\n",
        "    'optimizer' : 'sgd',\n",
        "    'lr'        : 2e-3,\n",
        "}\n",
        "\n",
        "train_loader, test_loader = build_data(run_config['batch_size'], data_train, data_test)\n",
        "\n",
        "optimizer = get_optim(run_config['optimizer'], run_config['lr'], model)\n",
        "\n",
        "criterion = nn.CrossEntropyLoss()\n",
        "\n",
        "scaler = torch.cuda.amp.GradScaler()"
      ],
      "metadata": {
        "id": "CxassmuyOwao"
      },
      "execution_count": null,
      "outputs": []
    },
    {
      "cell_type": "code",
      "source": [
        "run = wandb.init(\n",
        "    project     = \"wandb-quickstart\",\n",
        "    job_type    = \"model-training\",\n",
        "    name        = run_config['model'],\n",
        "    config      = run_config,\n",
        "    )"
      ],
      "metadata": {
        "colab": {
          "base_uri": "https://localhost:8080/",
          "height": 104
        },
        "id": "jhUW8EPXPP9J",
        "outputId": "b113be3c-5cbd-46f2-cf04-433109551013"
      },
      "execution_count": null,
      "outputs": [
        {
          "output_type": "display_data",
          "data": {
            "text/plain": [
              "<IPython.core.display.HTML object>"
            ],
            "text/html": [
              "Tracking run with wandb version 0.16.1"
            ]
          },
          "metadata": {}
        },
        {
          "output_type": "display_data",
          "data": {
            "text/plain": [
              "<IPython.core.display.HTML object>"
            ],
            "text/html": [
              "Run data is saved locally in <code>/content/wandb/run-20240108_040407-7ep7q3te</code>"
            ]
          },
          "metadata": {}
        },
        {
          "output_type": "display_data",
          "data": {
            "text/plain": [
              "<IPython.core.display.HTML object>"
            ],
            "text/html": [
              "Syncing run <strong><a href='https://wandb.ai/cchilkun/wandb-quickstart/runs/7ep7q3te' target=\"_blank\">1-2dcnn</a></strong> to <a href='https://wandb.ai/cchilkun/wandb-quickstart' target=\"_blank\">Weights & Biases</a> (<a href='https://wandb.me/run' target=\"_blank\">docs</a>)<br/>"
            ]
          },
          "metadata": {}
        },
        {
          "output_type": "display_data",
          "data": {
            "text/plain": [
              "<IPython.core.display.HTML object>"
            ],
            "text/html": [
              " View project at <a href='https://wandb.ai/cchilkun/wandb-quickstart' target=\"_blank\">https://wandb.ai/cchilkun/wandb-quickstart</a>"
            ]
          },
          "metadata": {}
        },
        {
          "output_type": "display_data",
          "data": {
            "text/plain": [
              "<IPython.core.display.HTML object>"
            ],
            "text/html": [
              " View run at <a href='https://wandb.ai/cchilkun/wandb-quickstart/runs/7ep7q3te' target=\"_blank\">https://wandb.ai/cchilkun/wandb-quickstart/runs/7ep7q3te</a>"
            ]
          },
          "metadata": {}
        }
      ]
    },
    {
      "cell_type": "code",
      "source": [
        "train(model)"
      ],
      "metadata": {
        "colab": {
          "base_uri": "https://localhost:8080/",
          "height": 320,
          "referenced_widgets": [
            "94f663a70f8f43b6ad1b4e4df8037d8d",
            "ae3f8a050cf24b40ac7164af22d0d0bf",
            "1fe4cbb2893d4ae59278fd779ca3cb75",
            "752797808acd4e5badcc935817b290db",
            "130193ecadb4427ead38a4924a29e35b",
            "0a03fd463b4c4c8d85c6458621d1323a",
            "6a4651aae9874359b69a90cdcea97eb2",
            "2db7ecde023e494f91243eeb4f28378a"
          ]
        },
        "id": "zOtBHKFXPXEm",
        "outputId": "08b64a30-de8d-49e1-f6c7-76c28a264f8e"
      },
      "execution_count": null,
      "outputs": [
        {
          "output_type": "stream",
          "name": "stderr",
          "text": []
        },
        {
          "output_type": "stream",
          "name": "stdout",
          "text": [
            "Epoch 1/5: Train Acc 24.3047%, Train Loss 2.1170, Learning Rate 0.0020\n"
          ]
        },
        {
          "output_type": "stream",
          "name": "stderr",
          "text": []
        },
        {
          "output_type": "stream",
          "name": "stdout",
          "text": [
            "Epoch 2/5: Train Acc 31.7335%, Train Loss 1.9620, Learning Rate 0.0020\n"
          ]
        },
        {
          "output_type": "stream",
          "name": "stderr",
          "text": []
        },
        {
          "output_type": "stream",
          "name": "stdout",
          "text": [
            "Epoch 3/5: Train Acc 33.9914%, Train Loss 1.8957, Learning Rate 0.0020\n"
          ]
        },
        {
          "output_type": "stream",
          "name": "stderr",
          "text": []
        },
        {
          "output_type": "stream",
          "name": "stdout",
          "text": [
            "Epoch 4/5: Train Acc 35.5878%, Train Loss 1.8547, Learning Rate 0.0020\n"
          ]
        },
        {
          "output_type": "stream",
          "name": "stderr",
          "text": []
        },
        {
          "output_type": "stream",
          "name": "stdout",
          "text": [
            "Epoch 5/5: Train Acc 36.6368%, Train Loss 1.8239, Learning Rate 0.0020\n"
          ]
        },
        {
          "output_type": "display_data",
          "data": {
            "text/plain": [
              "VBox(children=(Label(value='0.168 MB of 0.168 MB uploaded\\r'), FloatProgress(value=1.0, max=1.0)))"
            ],
            "application/vnd.jupyter.widget-view+json": {
              "version_major": 2,
              "version_minor": 0,
              "model_id": "94f663a70f8f43b6ad1b4e4df8037d8d"
            }
          },
          "metadata": {}
        },
        {
          "output_type": "display_data",
          "data": {
            "text/plain": [
              "<IPython.core.display.HTML object>"
            ],
            "text/html": [
              "<style>\n",
              "    table.wandb td:nth-child(1) { padding: 0 10px; text-align: left ; width: auto;} td:nth-child(2) {text-align: left ; width: 100%}\n",
              "    .wandb-row { display: flex; flex-direction: row; flex-wrap: wrap; justify-content: flex-start; width: 100% }\n",
              "    .wandb-col { display: flex; flex-direction: column; flex-basis: 100%; flex: 1; padding: 10px; }\n",
              "    </style>\n",
              "<div class=\"wandb-row\"><div class=\"wandb-col\"><h3>Run history:</h3><br/><table class=\"wandb\"><tr><td>lr</td><td>▁▁▁▁▁</td></tr><tr><td>train_acc</td><td>▁▅▆▇█</td></tr><tr><td>train_loss</td><td>█▄▃▂▁</td></tr></table><br/></div><div class=\"wandb-col\"><h3>Run summary:</h3><br/><table class=\"wandb\"><tr><td>lr</td><td>0.002</td></tr><tr><td>train_acc</td><td>36.63683</td></tr><tr><td>train_loss</td><td>1.82386</td></tr></table><br/></div></div>"
            ]
          },
          "metadata": {}
        },
        {
          "output_type": "display_data",
          "data": {
            "text/plain": [
              "<IPython.core.display.HTML object>"
            ],
            "text/html": [
              " View run <strong style=\"color:#cdcd00\">1-2dcnn</strong> at: <a href='https://wandb.ai/cchilkun/wandb-quickstart/runs/7ep7q3te' target=\"_blank\">https://wandb.ai/cchilkun/wandb-quickstart/runs/7ep7q3te</a><br/>Synced 5 W&B file(s), 0 media file(s), 5 artifact file(s) and 0 other file(s)"
            ]
          },
          "metadata": {}
        },
        {
          "output_type": "display_data",
          "data": {
            "text/plain": [
              "<IPython.core.display.HTML object>"
            ],
            "text/html": [
              "Find logs at: <code>./wandb/run-20240108_040407-7ep7q3te/logs</code>"
            ]
          },
          "metadata": {}
        }
      ]
    },
    {
      "cell_type": "markdown",
      "source": [
        "# Resuming Training"
      ],
      "metadata": {
        "id": "Zxlvhly7Ms7G"
      }
    },
    {
      "cell_type": "code",
      "source": [
        "''' change RESUME_LOGGING to True and enter the specific run ID below '''\n",
        "\n",
        "RESUME_LOGGING = False                  ### resume run status\n",
        "\n",
        "if RESUME_LOGGING:\n",
        "  run_id = NotImplemented               ### replace with run ID string (from www.wandb.ai/)\n",
        "\n",
        "  run = wandb.init(\n",
        "      id        = run_id,               ### inserting specific run ID to resume a previous run\n",
        "      #reinit    = True,\n",
        "      resume    = \"must\",               ### set this to \"must\" to resume, but comment out reinit=True\n",
        "      project   = \"wandb-quickstart\",   ### WandB Project Name\n",
        "  )"
      ],
      "metadata": {
        "id": "1dEZpM3zP6Yf"
      },
      "execution_count": null,
      "outputs": []
    },
    {
      "cell_type": "code",
      "source": [
        "''' test code to append metrics to previously logged metrics in the run '''\n",
        "\n",
        "test_new_metrics = {\n",
        "    \"train_loss\"    :1.5,\n",
        "    \"train_acc\"     : 40,\n",
        "    'lr'            : 0.001\n",
        "    }\n",
        "\n",
        "wandb.log(test_new_metrics)"
      ],
      "metadata": {
        "id": "s49_231uQ-0J"
      },
      "execution_count": null,
      "outputs": []
    },
    {
      "cell_type": "markdown",
      "source": [
        "# Hyperparameter Sweeps\n",
        "\n",
        "[Sweeps](https://docs.wandb.ai/guides/sweeps) are a way of automating hyperparameter tuning in Deep Learning Models. <br>\n",
        "You set up the values that you want your sweep to try and then track the effect of changing each parameter on each value on the model."
      ],
      "metadata": {
        "id": "D6Pwt2bnP3sR"
      }
    },
    {
      "cell_type": "code",
      "source": [
        "# initializing the sweep, setting the sampling method (grid, random, bayesian)\n",
        "\n",
        "sweep_config = {'method' : 'random'}        # enter \"grid\", \"random\", \"bayes\""
      ],
      "metadata": {
        "id": "2IOeqKkeRbOL"
      },
      "execution_count": null,
      "outputs": []
    },
    {
      "cell_type": "code",
      "source": [
        "# setting the objective of the sweep (minimize loss, maximize accuracy, etc.)\n",
        "\n",
        "metric = {\n",
        "    'name' : 'loss',\n",
        "    'goal' : 'minimize'\n",
        "}\n",
        "\n",
        "sweep_config['metric'] = metric"
      ],
      "metadata": {
        "id": "QLNlJGaqRe0J"
      },
      "execution_count": null,
      "outputs": []
    },
    {
      "cell_type": "code",
      "source": [
        "# hyperparameters of interest (to be visualized in the sweep)\n",
        "\n",
        "parameters_dict = {\n",
        "    'optimizer' : {\n",
        "        'values': ['sgd', 'adam']\n",
        "    },\n",
        "\n",
        "    'learning_rate' : {\n",
        "        'distribution'  : 'uniform',\n",
        "        'min'           : 2e-4,\n",
        "        'max'           : 1e-1\n",
        "    },\n",
        "\n",
        "    'batch_size' : {\n",
        "        'distribution'  : 'q_log_uniform_values',\n",
        "        'q'             : 4,\n",
        "        'min'           : 16,\n",
        "        'max'           : 128\n",
        "    },\n",
        "\n",
        "    'epochs' : {\n",
        "        'value' : 5\n",
        "    }\n",
        "}\n",
        "\n",
        "sweep_config['parameters'] = parameters_dict"
      ],
      "metadata": {
        "id": "Grs5Fn6DR3Xo"
      },
      "execution_count": null,
      "outputs": []
    },
    {
      "cell_type": "code",
      "source": [
        "# initalizing the sweep\n",
        "\n",
        "sweep_id = wandb.sweep(sweep_config, project=\"CIFAR-Sweep2\")"
      ],
      "metadata": {
        "colab": {
          "base_uri": "https://localhost:8080/"
        },
        "id": "pIXhdHb1SMUY",
        "outputId": "8782a633-ac2a-4980-aec7-9bc9dc25e112"
      },
      "execution_count": null,
      "outputs": [
        {
          "output_type": "stream",
          "name": "stdout",
          "text": [
            "Create sweep with ID: wzbjge6q\n",
            "Sweep URL: https://wandb.ai/cchilkun/CIFAR-Sweep2/sweeps/wzbjge6q\n"
          ]
        }
      ]
    },
    {
      "cell_type": "code",
      "source": [
        "def train_sweep(config = None):\n",
        "    with wandb.init(config=config) as run:\n",
        "        run.name=f\"LR:{wandb.config.learning_rate}__BS:{wandb.config.batch_size}__OPTIM:{wandb.config.optimizer}\"\n",
        "        config = wandb.config\n",
        "\n",
        "        train_loader, test_loader = build_data(config.batch_size, data_train, data_test)\n",
        "\n",
        "        model = Network().to(device)\n",
        "\n",
        "        optimizer = get_optim(config.optimizer, config.learning_rate, model)\n",
        "\n",
        "        criterion = nn.CrossEntropyLoss()\n",
        "\n",
        "        scaler = torch.cuda.amp.GradScaler()\n",
        "\n",
        "        for epoch in range(config.epochs):\n",
        "\n",
        "            model, loss = train_epoch(model, train_loader, optimizer, criterion, scaler)\n",
        "\n",
        "            wandb.log({'loss': loss})"
      ],
      "metadata": {
        "id": "-iiI73KeSpJm"
      },
      "execution_count": null,
      "outputs": []
    },
    {
      "cell_type": "code",
      "source": [
        "# running the sweep\n",
        "\n",
        "wandb.agent(sweep_id, train_sweep, count=5)"
      ],
      "metadata": {
        "colab": {
          "base_uri": "https://localhost:8080/",
          "height": 1000,
          "referenced_widgets": [
            "4b5f56e8524742fc862ab65f911281c1",
            "0e2edbc42d974b1bb880e42cee2d7226",
            "5213d2682c5249e98512981975384a4a",
            "e73e48ec4a70430e8c9d7c9c423c473b",
            "9cfb999a32c14178a6145a120b1087bf",
            "e33f0057db6d4801a0cc89b07c572632",
            "3d96844aa2f84d90962480a3bfe2f0f8",
            "fc354a4bc7414bdc9a360f0cc6d6a856",
            "1ea6303676a544ffba5c2b1d2ec3aa7c",
            "539fab9350c344cb9de8b242919f2630",
            "41403ae68a2942c8b22fb620a72eed8b",
            "ca6e0405fa7b4f04965bce653ef64334",
            "9655d414833a427ab6d14188c6f9cb4a",
            "6ecc1bc9a0114a34b6db62fbe6797194",
            "8d85092b6fa842cea44229b416350e46",
            "5294856ee31243bbb77a86b5f6b0c712",
            "15196897e6994985a073a2826513a681",
            "007791be032d40da9496a182a16a4291",
            "f6046a3e55c3436f8e95b39c84d99861",
            "e76d27a977db47a5865491f6ad490f0e",
            "7eb185ed915e46f8bab1dd7ca4d22eb6",
            "97ca36fae78e4269a41a49bd3b0dbda8",
            "1b90bdef12984538b266aae3687bae42",
            "eb83c3eae9f3472f8c66d048f46811c3",
            "48c5aab46344419491a07b32956d9149",
            "f85bbc10240d452aaa43b8a1fb71ad23",
            "93079e39f0b3483c88604ce826d16f29",
            "32fe88ecac344a20b60ebb57a2f9e7bd",
            "0f9d62edcd284cb2b1377eda0dd90b17",
            "9739ae9a68084bbca13cb3a5ebda276c",
            "96236c04527c40adad8b0ba58f0718a0",
            "bd0113a06f2946808ef1ade0cbfe53fa",
            "5080c8e1e66b4c82a24908a431a0c4ab",
            "2b59b8d811404e3688bfe9b5eb739f12",
            "fe72f59b59c9483f86d4668d4e790151",
            "ad95e3bf1961448f86295fa996470b0c",
            "5f5a00da97bb45a780706fc383335c74",
            "880c2c98aff54f9f9d767c9a30f53b03",
            "aa3052c687114bf7a0136d53362b9778",
            "e0e0a55571b64a2983d0a167d91241d0"
          ]
        },
        "id": "GuBy6MwaS3tm",
        "outputId": "a5dfe157-c9e3-4865-cc9b-8f9aa77571ca"
      },
      "execution_count": null,
      "outputs": [
        {
          "output_type": "stream",
          "name": "stderr",
          "text": [
            "\u001b[34m\u001b[1mwandb\u001b[0m: Agent Starting Run: zoyvjdhc with config:\n",
            "\u001b[34m\u001b[1mwandb\u001b[0m: \tbatch_size: 48\n",
            "\u001b[34m\u001b[1mwandb\u001b[0m: \tepochs: 5\n",
            "\u001b[34m\u001b[1mwandb\u001b[0m: \tlearning_rate: 0.09083513142349564\n",
            "\u001b[34m\u001b[1mwandb\u001b[0m: \toptimizer: sgd\n"
          ]
        },
        {
          "output_type": "display_data",
          "data": {
            "text/plain": [
              "<IPython.core.display.HTML object>"
            ],
            "text/html": [
              "Tracking run with wandb version 0.16.1"
            ]
          },
          "metadata": {}
        },
        {
          "output_type": "display_data",
          "data": {
            "text/plain": [
              "<IPython.core.display.HTML object>"
            ],
            "text/html": [
              "Run data is saved locally in <code>/content/wandb/run-20240108_041908-zoyvjdhc</code>"
            ]
          },
          "metadata": {}
        },
        {
          "output_type": "display_data",
          "data": {
            "text/plain": [
              "<IPython.core.display.HTML object>"
            ],
            "text/html": [
              "Syncing run <strong><a href='https://wandb.ai/cchilkun/CIFAR-Sweep2/runs/zoyvjdhc' target=\"_blank\">avid-sweep-1</a></strong> to <a href='https://wandb.ai/cchilkun/CIFAR-Sweep2' target=\"_blank\">Weights & Biases</a> (<a href='https://wandb.me/run' target=\"_blank\">docs</a>)<br/>Sweep page: <a href='https://wandb.ai/cchilkun/CIFAR-Sweep2/sweeps/wzbjge6q' target=\"_blank\">https://wandb.ai/cchilkun/CIFAR-Sweep2/sweeps/wzbjge6q</a>"
            ]
          },
          "metadata": {}
        },
        {
          "output_type": "display_data",
          "data": {
            "text/plain": [
              "<IPython.core.display.HTML object>"
            ],
            "text/html": [
              " View project at <a href='https://wandb.ai/cchilkun/CIFAR-Sweep2' target=\"_blank\">https://wandb.ai/cchilkun/CIFAR-Sweep2</a>"
            ]
          },
          "metadata": {}
        },
        {
          "output_type": "display_data",
          "data": {
            "text/plain": [
              "<IPython.core.display.HTML object>"
            ],
            "text/html": [
              " View sweep at <a href='https://wandb.ai/cchilkun/CIFAR-Sweep2/sweeps/wzbjge6q' target=\"_blank\">https://wandb.ai/cchilkun/CIFAR-Sweep2/sweeps/wzbjge6q</a>"
            ]
          },
          "metadata": {}
        },
        {
          "output_type": "display_data",
          "data": {
            "text/plain": [
              "<IPython.core.display.HTML object>"
            ],
            "text/html": [
              " View run at <a href='https://wandb.ai/cchilkun/CIFAR-Sweep2/runs/zoyvjdhc' target=\"_blank\">https://wandb.ai/cchilkun/CIFAR-Sweep2/runs/zoyvjdhc</a>"
            ]
          },
          "metadata": {}
        },
        {
          "output_type": "display_data",
          "data": {
            "text/plain": [
              "VBox(children=(Label(value='0.003 MB of 0.012 MB uploaded\\r'), FloatProgress(value=0.21595941702230453, max=1.…"
            ],
            "application/vnd.jupyter.widget-view+json": {
              "version_major": 2,
              "version_minor": 0,
              "model_id": "4b5f56e8524742fc862ab65f911281c1"
            }
          },
          "metadata": {}
        },
        {
          "output_type": "display_data",
          "data": {
            "text/plain": [
              "<IPython.core.display.HTML object>"
            ],
            "text/html": [
              "<style>\n",
              "    table.wandb td:nth-child(1) { padding: 0 10px; text-align: left ; width: auto;} td:nth-child(2) {text-align: left ; width: 100%}\n",
              "    .wandb-row { display: flex; flex-direction: row; flex-wrap: wrap; justify-content: flex-start; width: 100% }\n",
              "    .wandb-col { display: flex; flex-direction: column; flex-basis: 100%; flex: 1; padding: 10px; }\n",
              "    </style>\n",
              "<div class=\"wandb-row\"><div class=\"wandb-col\"><h3>Run history:</h3><br/><table class=\"wandb\"><tr><td>loss</td><td>█▄▃▂▁</td></tr></table><br/></div><div class=\"wandb-col\"><h3>Run summary:</h3><br/><table class=\"wandb\"><tr><td>loss</td><td>1.25249</td></tr></table><br/></div></div>"
            ]
          },
          "metadata": {}
        },
        {
          "output_type": "display_data",
          "data": {
            "text/plain": [
              "<IPython.core.display.HTML object>"
            ],
            "text/html": [
              " View run <strong style=\"color:#cdcd00\">avid-sweep-1</strong> at: <a href='https://wandb.ai/cchilkun/CIFAR-Sweep2/runs/zoyvjdhc' target=\"_blank\">https://wandb.ai/cchilkun/CIFAR-Sweep2/runs/zoyvjdhc</a><br/>Synced 4 W&B file(s), 0 media file(s), 0 artifact file(s) and 0 other file(s)"
            ]
          },
          "metadata": {}
        },
        {
          "output_type": "display_data",
          "data": {
            "text/plain": [
              "<IPython.core.display.HTML object>"
            ],
            "text/html": [
              "Find logs at: <code>./wandb/run-20240108_041908-zoyvjdhc/logs</code>"
            ]
          },
          "metadata": {}
        },
        {
          "output_type": "stream",
          "name": "stderr",
          "text": [
            "\u001b[34m\u001b[1mwandb\u001b[0m: Agent Starting Run: is6c1nu6 with config:\n",
            "\u001b[34m\u001b[1mwandb\u001b[0m: \tbatch_size: 56\n",
            "\u001b[34m\u001b[1mwandb\u001b[0m: \tepochs: 5\n",
            "\u001b[34m\u001b[1mwandb\u001b[0m: \tlearning_rate: 0.05483909989589066\n",
            "\u001b[34m\u001b[1mwandb\u001b[0m: \toptimizer: sgd\n"
          ]
        },
        {
          "output_type": "display_data",
          "data": {
            "text/plain": [
              "<IPython.core.display.HTML object>"
            ],
            "text/html": [
              "Tracking run with wandb version 0.16.1"
            ]
          },
          "metadata": {}
        },
        {
          "output_type": "display_data",
          "data": {
            "text/plain": [
              "<IPython.core.display.HTML object>"
            ],
            "text/html": [
              "Run data is saved locally in <code>/content/wandb/run-20240108_042004-is6c1nu6</code>"
            ]
          },
          "metadata": {}
        },
        {
          "output_type": "display_data",
          "data": {
            "text/plain": [
              "<IPython.core.display.HTML object>"
            ],
            "text/html": [
              "Syncing run <strong><a href='https://wandb.ai/cchilkun/CIFAR-Sweep2/runs/is6c1nu6' target=\"_blank\">charmed-sweep-2</a></strong> to <a href='https://wandb.ai/cchilkun/CIFAR-Sweep2' target=\"_blank\">Weights & Biases</a> (<a href='https://wandb.me/run' target=\"_blank\">docs</a>)<br/>Sweep page: <a href='https://wandb.ai/cchilkun/CIFAR-Sweep2/sweeps/wzbjge6q' target=\"_blank\">https://wandb.ai/cchilkun/CIFAR-Sweep2/sweeps/wzbjge6q</a>"
            ]
          },
          "metadata": {}
        },
        {
          "output_type": "display_data",
          "data": {
            "text/plain": [
              "<IPython.core.display.HTML object>"
            ],
            "text/html": [
              " View project at <a href='https://wandb.ai/cchilkun/CIFAR-Sweep2' target=\"_blank\">https://wandb.ai/cchilkun/CIFAR-Sweep2</a>"
            ]
          },
          "metadata": {}
        },
        {
          "output_type": "display_data",
          "data": {
            "text/plain": [
              "<IPython.core.display.HTML object>"
            ],
            "text/html": [
              " View sweep at <a href='https://wandb.ai/cchilkun/CIFAR-Sweep2/sweeps/wzbjge6q' target=\"_blank\">https://wandb.ai/cchilkun/CIFAR-Sweep2/sweeps/wzbjge6q</a>"
            ]
          },
          "metadata": {}
        },
        {
          "output_type": "display_data",
          "data": {
            "text/plain": [
              "<IPython.core.display.HTML object>"
            ],
            "text/html": [
              " View run at <a href='https://wandb.ai/cchilkun/CIFAR-Sweep2/runs/is6c1nu6' target=\"_blank\">https://wandb.ai/cchilkun/CIFAR-Sweep2/runs/is6c1nu6</a>"
            ]
          },
          "metadata": {}
        },
        {
          "output_type": "display_data",
          "data": {
            "text/plain": [
              "VBox(children=(Label(value='0.012 MB of 0.012 MB uploaded\\r'), FloatProgress(value=1.0, max=1.0)))"
            ],
            "application/vnd.jupyter.widget-view+json": {
              "version_major": 2,
              "version_minor": 0,
              "model_id": "1ea6303676a544ffba5c2b1d2ec3aa7c"
            }
          },
          "metadata": {}
        },
        {
          "output_type": "display_data",
          "data": {
            "text/plain": [
              "<IPython.core.display.HTML object>"
            ],
            "text/html": [
              "<style>\n",
              "    table.wandb td:nth-child(1) { padding: 0 10px; text-align: left ; width: auto;} td:nth-child(2) {text-align: left ; width: 100%}\n",
              "    .wandb-row { display: flex; flex-direction: row; flex-wrap: wrap; justify-content: flex-start; width: 100% }\n",
              "    .wandb-col { display: flex; flex-direction: column; flex-basis: 100%; flex: 1; padding: 10px; }\n",
              "    </style>\n",
              "<div class=\"wandb-row\"><div class=\"wandb-col\"><h3>Run history:</h3><br/><table class=\"wandb\"><tr><td>loss</td><td>█▄▃▂▁</td></tr></table><br/></div><div class=\"wandb-col\"><h3>Run summary:</h3><br/><table class=\"wandb\"><tr><td>loss</td><td>1.31324</td></tr></table><br/></div></div>"
            ]
          },
          "metadata": {}
        },
        {
          "output_type": "display_data",
          "data": {
            "text/plain": [
              "<IPython.core.display.HTML object>"
            ],
            "text/html": [
              " View run <strong style=\"color:#cdcd00\">charmed-sweep-2</strong> at: <a href='https://wandb.ai/cchilkun/CIFAR-Sweep2/runs/is6c1nu6' target=\"_blank\">https://wandb.ai/cchilkun/CIFAR-Sweep2/runs/is6c1nu6</a><br/>Synced 4 W&B file(s), 0 media file(s), 0 artifact file(s) and 0 other file(s)"
            ]
          },
          "metadata": {}
        },
        {
          "output_type": "display_data",
          "data": {
            "text/plain": [
              "<IPython.core.display.HTML object>"
            ],
            "text/html": [
              "Find logs at: <code>./wandb/run-20240108_042004-is6c1nu6/logs</code>"
            ]
          },
          "metadata": {}
        },
        {
          "output_type": "stream",
          "name": "stderr",
          "text": [
            "\u001b[34m\u001b[1mwandb\u001b[0m: Agent Starting Run: t4nqqsoz with config:\n",
            "\u001b[34m\u001b[1mwandb\u001b[0m: \tbatch_size: 36\n",
            "\u001b[34m\u001b[1mwandb\u001b[0m: \tepochs: 5\n",
            "\u001b[34m\u001b[1mwandb\u001b[0m: \tlearning_rate: 0.013364095048078676\n",
            "\u001b[34m\u001b[1mwandb\u001b[0m: \toptimizer: adam\n"
          ]
        },
        {
          "output_type": "display_data",
          "data": {
            "text/plain": [
              "<IPython.core.display.HTML object>"
            ],
            "text/html": [
              "Tracking run with wandb version 0.16.1"
            ]
          },
          "metadata": {}
        },
        {
          "output_type": "display_data",
          "data": {
            "text/plain": [
              "<IPython.core.display.HTML object>"
            ],
            "text/html": [
              "Run data is saved locally in <code>/content/wandb/run-20240108_042056-t4nqqsoz</code>"
            ]
          },
          "metadata": {}
        },
        {
          "output_type": "display_data",
          "data": {
            "text/plain": [
              "<IPython.core.display.HTML object>"
            ],
            "text/html": [
              "Syncing run <strong><a href='https://wandb.ai/cchilkun/CIFAR-Sweep2/runs/t4nqqsoz' target=\"_blank\">rare-sweep-3</a></strong> to <a href='https://wandb.ai/cchilkun/CIFAR-Sweep2' target=\"_blank\">Weights & Biases</a> (<a href='https://wandb.me/run' target=\"_blank\">docs</a>)<br/>Sweep page: <a href='https://wandb.ai/cchilkun/CIFAR-Sweep2/sweeps/wzbjge6q' target=\"_blank\">https://wandb.ai/cchilkun/CIFAR-Sweep2/sweeps/wzbjge6q</a>"
            ]
          },
          "metadata": {}
        },
        {
          "output_type": "display_data",
          "data": {
            "text/plain": [
              "<IPython.core.display.HTML object>"
            ],
            "text/html": [
              " View project at <a href='https://wandb.ai/cchilkun/CIFAR-Sweep2' target=\"_blank\">https://wandb.ai/cchilkun/CIFAR-Sweep2</a>"
            ]
          },
          "metadata": {}
        },
        {
          "output_type": "display_data",
          "data": {
            "text/plain": [
              "<IPython.core.display.HTML object>"
            ],
            "text/html": [
              " View sweep at <a href='https://wandb.ai/cchilkun/CIFAR-Sweep2/sweeps/wzbjge6q' target=\"_blank\">https://wandb.ai/cchilkun/CIFAR-Sweep2/sweeps/wzbjge6q</a>"
            ]
          },
          "metadata": {}
        },
        {
          "output_type": "display_data",
          "data": {
            "text/plain": [
              "<IPython.core.display.HTML object>"
            ],
            "text/html": [
              " View run at <a href='https://wandb.ai/cchilkun/CIFAR-Sweep2/runs/t4nqqsoz' target=\"_blank\">https://wandb.ai/cchilkun/CIFAR-Sweep2/runs/t4nqqsoz</a>"
            ]
          },
          "metadata": {}
        },
        {
          "output_type": "display_data",
          "data": {
            "text/plain": [
              "VBox(children=(Label(value='0.012 MB of 0.012 MB uploaded\\r'), FloatProgress(value=1.0, max=1.0)))"
            ],
            "application/vnd.jupyter.widget-view+json": {
              "version_major": 2,
              "version_minor": 0,
              "model_id": "15196897e6994985a073a2826513a681"
            }
          },
          "metadata": {}
        },
        {
          "output_type": "display_data",
          "data": {
            "text/plain": [
              "<IPython.core.display.HTML object>"
            ],
            "text/html": [
              "<style>\n",
              "    table.wandb td:nth-child(1) { padding: 0 10px; text-align: left ; width: auto;} td:nth-child(2) {text-align: left ; width: 100%}\n",
              "    .wandb-row { display: flex; flex-direction: row; flex-wrap: wrap; justify-content: flex-start; width: 100% }\n",
              "    .wandb-col { display: flex; flex-direction: column; flex-basis: 100%; flex: 1; padding: 10px; }\n",
              "    </style>\n",
              "<div class=\"wandb-row\"><div class=\"wandb-col\"><h3>Run history:</h3><br/><table class=\"wandb\"><tr><td>loss</td><td>█▄▂▁▁</td></tr></table><br/></div><div class=\"wandb-col\"><h3>Run summary:</h3><br/><table class=\"wandb\"><tr><td>loss</td><td>1.18276</td></tr></table><br/></div></div>"
            ]
          },
          "metadata": {}
        },
        {
          "output_type": "display_data",
          "data": {
            "text/plain": [
              "<IPython.core.display.HTML object>"
            ],
            "text/html": [
              " View run <strong style=\"color:#cdcd00\">rare-sweep-3</strong> at: <a href='https://wandb.ai/cchilkun/CIFAR-Sweep2/runs/t4nqqsoz' target=\"_blank\">https://wandb.ai/cchilkun/CIFAR-Sweep2/runs/t4nqqsoz</a><br/>Synced 4 W&B file(s), 0 media file(s), 0 artifact file(s) and 0 other file(s)"
            ]
          },
          "metadata": {}
        },
        {
          "output_type": "display_data",
          "data": {
            "text/plain": [
              "<IPython.core.display.HTML object>"
            ],
            "text/html": [
              "Find logs at: <code>./wandb/run-20240108_042056-t4nqqsoz/logs</code>"
            ]
          },
          "metadata": {}
        },
        {
          "output_type": "stream",
          "name": "stderr",
          "text": [
            "\u001b[34m\u001b[1mwandb\u001b[0m: Agent Starting Run: 2cvfqagz with config:\n",
            "\u001b[34m\u001b[1mwandb\u001b[0m: \tbatch_size: 44\n",
            "\u001b[34m\u001b[1mwandb\u001b[0m: \tepochs: 5\n",
            "\u001b[34m\u001b[1mwandb\u001b[0m: \tlearning_rate: 0.05184637989221525\n",
            "\u001b[34m\u001b[1mwandb\u001b[0m: \toptimizer: adam\n"
          ]
        },
        {
          "output_type": "display_data",
          "data": {
            "text/plain": [
              "<IPython.core.display.HTML object>"
            ],
            "text/html": [
              "Tracking run with wandb version 0.16.1"
            ]
          },
          "metadata": {}
        },
        {
          "output_type": "display_data",
          "data": {
            "text/plain": [
              "<IPython.core.display.HTML object>"
            ],
            "text/html": [
              "Run data is saved locally in <code>/content/wandb/run-20240108_042156-2cvfqagz</code>"
            ]
          },
          "metadata": {}
        },
        {
          "output_type": "display_data",
          "data": {
            "text/plain": [
              "<IPython.core.display.HTML object>"
            ],
            "text/html": [
              "Syncing run <strong><a href='https://wandb.ai/cchilkun/CIFAR-Sweep2/runs/2cvfqagz' target=\"_blank\">crisp-sweep-4</a></strong> to <a href='https://wandb.ai/cchilkun/CIFAR-Sweep2' target=\"_blank\">Weights & Biases</a> (<a href='https://wandb.me/run' target=\"_blank\">docs</a>)<br/>Sweep page: <a href='https://wandb.ai/cchilkun/CIFAR-Sweep2/sweeps/wzbjge6q' target=\"_blank\">https://wandb.ai/cchilkun/CIFAR-Sweep2/sweeps/wzbjge6q</a>"
            ]
          },
          "metadata": {}
        },
        {
          "output_type": "display_data",
          "data": {
            "text/plain": [
              "<IPython.core.display.HTML object>"
            ],
            "text/html": [
              " View project at <a href='https://wandb.ai/cchilkun/CIFAR-Sweep2' target=\"_blank\">https://wandb.ai/cchilkun/CIFAR-Sweep2</a>"
            ]
          },
          "metadata": {}
        },
        {
          "output_type": "display_data",
          "data": {
            "text/plain": [
              "<IPython.core.display.HTML object>"
            ],
            "text/html": [
              " View sweep at <a href='https://wandb.ai/cchilkun/CIFAR-Sweep2/sweeps/wzbjge6q' target=\"_blank\">https://wandb.ai/cchilkun/CIFAR-Sweep2/sweeps/wzbjge6q</a>"
            ]
          },
          "metadata": {}
        },
        {
          "output_type": "display_data",
          "data": {
            "text/plain": [
              "<IPython.core.display.HTML object>"
            ],
            "text/html": [
              " View run at <a href='https://wandb.ai/cchilkun/CIFAR-Sweep2/runs/2cvfqagz' target=\"_blank\">https://wandb.ai/cchilkun/CIFAR-Sweep2/runs/2cvfqagz</a>"
            ]
          },
          "metadata": {}
        },
        {
          "output_type": "display_data",
          "data": {
            "text/plain": [
              "VBox(children=(Label(value='0.012 MB of 0.012 MB uploaded\\r'), FloatProgress(value=1.0, max=1.0)))"
            ],
            "application/vnd.jupyter.widget-view+json": {
              "version_major": 2,
              "version_minor": 0,
              "model_id": "48c5aab46344419491a07b32956d9149"
            }
          },
          "metadata": {}
        },
        {
          "output_type": "display_data",
          "data": {
            "text/plain": [
              "<IPython.core.display.HTML object>"
            ],
            "text/html": [
              "<style>\n",
              "    table.wandb td:nth-child(1) { padding: 0 10px; text-align: left ; width: auto;} td:nth-child(2) {text-align: left ; width: 100%}\n",
              "    .wandb-row { display: flex; flex-direction: row; flex-wrap: wrap; justify-content: flex-start; width: 100% }\n",
              "    .wandb-col { display: flex; flex-direction: column; flex-basis: 100%; flex: 1; padding: 10px; }\n",
              "    </style>\n",
              "<div class=\"wandb-row\"><div class=\"wandb-col\"><h3>Run history:</h3><br/><table class=\"wandb\"><tr><td>loss</td><td>█▃▂▂▁</td></tr></table><br/></div><div class=\"wandb-col\"><h3>Run summary:</h3><br/><table class=\"wandb\"><tr><td>loss</td><td>1.43797</td></tr></table><br/></div></div>"
            ]
          },
          "metadata": {}
        },
        {
          "output_type": "display_data",
          "data": {
            "text/plain": [
              "<IPython.core.display.HTML object>"
            ],
            "text/html": [
              " View run <strong style=\"color:#cdcd00\">crisp-sweep-4</strong> at: <a href='https://wandb.ai/cchilkun/CIFAR-Sweep2/runs/2cvfqagz' target=\"_blank\">https://wandb.ai/cchilkun/CIFAR-Sweep2/runs/2cvfqagz</a><br/>Synced 4 W&B file(s), 0 media file(s), 0 artifact file(s) and 0 other file(s)"
            ]
          },
          "metadata": {}
        },
        {
          "output_type": "display_data",
          "data": {
            "text/plain": [
              "<IPython.core.display.HTML object>"
            ],
            "text/html": [
              "Find logs at: <code>./wandb/run-20240108_042156-2cvfqagz/logs</code>"
            ]
          },
          "metadata": {}
        },
        {
          "output_type": "stream",
          "name": "stderr",
          "text": [
            "\u001b[34m\u001b[1mwandb\u001b[0m: Agent Starting Run: m397j3r6 with config:\n",
            "\u001b[34m\u001b[1mwandb\u001b[0m: \tbatch_size: 124\n",
            "\u001b[34m\u001b[1mwandb\u001b[0m: \tepochs: 5\n",
            "\u001b[34m\u001b[1mwandb\u001b[0m: \tlearning_rate: 0.04060632810130305\n",
            "\u001b[34m\u001b[1mwandb\u001b[0m: \toptimizer: sgd\n"
          ]
        },
        {
          "output_type": "display_data",
          "data": {
            "text/plain": [
              "<IPython.core.display.HTML object>"
            ],
            "text/html": [
              "Tracking run with wandb version 0.16.1"
            ]
          },
          "metadata": {}
        },
        {
          "output_type": "display_data",
          "data": {
            "text/plain": [
              "<IPython.core.display.HTML object>"
            ],
            "text/html": [
              "Run data is saved locally in <code>/content/wandb/run-20240108_042252-m397j3r6</code>"
            ]
          },
          "metadata": {}
        },
        {
          "output_type": "display_data",
          "data": {
            "text/plain": [
              "<IPython.core.display.HTML object>"
            ],
            "text/html": [
              "Syncing run <strong><a href='https://wandb.ai/cchilkun/CIFAR-Sweep2/runs/m397j3r6' target=\"_blank\">misty-sweep-5</a></strong> to <a href='https://wandb.ai/cchilkun/CIFAR-Sweep2' target=\"_blank\">Weights & Biases</a> (<a href='https://wandb.me/run' target=\"_blank\">docs</a>)<br/>Sweep page: <a href='https://wandb.ai/cchilkun/CIFAR-Sweep2/sweeps/wzbjge6q' target=\"_blank\">https://wandb.ai/cchilkun/CIFAR-Sweep2/sweeps/wzbjge6q</a>"
            ]
          },
          "metadata": {}
        },
        {
          "output_type": "display_data",
          "data": {
            "text/plain": [
              "<IPython.core.display.HTML object>"
            ],
            "text/html": [
              " View project at <a href='https://wandb.ai/cchilkun/CIFAR-Sweep2' target=\"_blank\">https://wandb.ai/cchilkun/CIFAR-Sweep2</a>"
            ]
          },
          "metadata": {}
        },
        {
          "output_type": "display_data",
          "data": {
            "text/plain": [
              "<IPython.core.display.HTML object>"
            ],
            "text/html": [
              " View sweep at <a href='https://wandb.ai/cchilkun/CIFAR-Sweep2/sweeps/wzbjge6q' target=\"_blank\">https://wandb.ai/cchilkun/CIFAR-Sweep2/sweeps/wzbjge6q</a>"
            ]
          },
          "metadata": {}
        },
        {
          "output_type": "display_data",
          "data": {
            "text/plain": [
              "<IPython.core.display.HTML object>"
            ],
            "text/html": [
              " View run at <a href='https://wandb.ai/cchilkun/CIFAR-Sweep2/runs/m397j3r6' target=\"_blank\">https://wandb.ai/cchilkun/CIFAR-Sweep2/runs/m397j3r6</a>"
            ]
          },
          "metadata": {}
        },
        {
          "output_type": "display_data",
          "data": {
            "text/plain": [
              "VBox(children=(Label(value='0.012 MB of 0.012 MB uploaded\\r'), FloatProgress(value=1.0, max=1.0)))"
            ],
            "application/vnd.jupyter.widget-view+json": {
              "version_major": 2,
              "version_minor": 0,
              "model_id": "5080c8e1e66b4c82a24908a431a0c4ab"
            }
          },
          "metadata": {}
        },
        {
          "output_type": "display_data",
          "data": {
            "text/plain": [
              "<IPython.core.display.HTML object>"
            ],
            "text/html": [
              "<style>\n",
              "    table.wandb td:nth-child(1) { padding: 0 10px; text-align: left ; width: auto;} td:nth-child(2) {text-align: left ; width: 100%}\n",
              "    .wandb-row { display: flex; flex-direction: row; flex-wrap: wrap; justify-content: flex-start; width: 100% }\n",
              "    .wandb-col { display: flex; flex-direction: column; flex-basis: 100%; flex: 1; padding: 10px; }\n",
              "    </style>\n",
              "<div class=\"wandb-row\"><div class=\"wandb-col\"><h3>Run history:</h3><br/><table class=\"wandb\"><tr><td>loss</td><td>█▅▃▂▁</td></tr></table><br/></div><div class=\"wandb-col\"><h3>Run summary:</h3><br/><table class=\"wandb\"><tr><td>loss</td><td>1.45985</td></tr></table><br/></div></div>"
            ]
          },
          "metadata": {}
        },
        {
          "output_type": "display_data",
          "data": {
            "text/plain": [
              "<IPython.core.display.HTML object>"
            ],
            "text/html": [
              " View run <strong style=\"color:#cdcd00\">misty-sweep-5</strong> at: <a href='https://wandb.ai/cchilkun/CIFAR-Sweep2/runs/m397j3r6' target=\"_blank\">https://wandb.ai/cchilkun/CIFAR-Sweep2/runs/m397j3r6</a><br/>Synced 4 W&B file(s), 0 media file(s), 0 artifact file(s) and 0 other file(s)"
            ]
          },
          "metadata": {}
        },
        {
          "output_type": "display_data",
          "data": {
            "text/plain": [
              "<IPython.core.display.HTML object>"
            ],
            "text/html": [
              "Find logs at: <code>./wandb/run-20240108_042252-m397j3r6/logs</code>"
            ]
          },
          "metadata": {}
        }
      ]
    },
    {
      "cell_type": "markdown",
      "metadata": {
        "id": "Q5189Q0WkYh9"
      },
      "source": [
        "# Artifact and Model Versioning\n",
        "\n",
        "Artifacts are a method of managing versions for data and models. You can use Artifacts to keep and compare versions of your model while training to make it easier to share data and models between team members, and for safe version control."
      ]
    },
    {
      "cell_type": "code",
      "execution_count": null,
      "metadata": {
        "id": "8jefWW9Qux5c"
      },
      "outputs": [],
      "source": [
        "run_config = {\n",
        "    'model'         : '1-2dcnn',\n",
        "    'optimizer'     : 'adam',\n",
        "    'lr'            : 5e-3,\n",
        "    'batch_size'    : 20,\n",
        "    'epochs'        : 5\n",
        "}\n",
        "\n",
        "train_loader, test_loader   = build_data(run_config['batch_size'], data_train, data_test)\n",
        "optimizer                   = get_optim(run_config['optimizer'], run_config['lr'], model)\n",
        "criterion                   = nn.CrossEntropyLoss()\n",
        "scaler                      = torch.cuda.amp.GradScaler()"
      ]
    },
    {
      "cell_type": "code",
      "execution_count": null,
      "metadata": {
        "colab": {
          "base_uri": "https://localhost:8080/",
          "height": 174
        },
        "id": "hDSSl7WaBQwi",
        "outputId": "de8fb875-a7c7-4559-bc86-0b53cbeac12e"
      },
      "outputs": [
        {
          "data": {
            "text/html": [
              "Changes to your `wandb` environment variables will be ignored because your `wandb` session has already started. For more information on how to modify your settings with `wandb.init()` arguments, please refer to <a href='https://wandb.me/wandb-init' target=\"_blank\">the W&B docs</a>."
            ],
            "text/plain": [
              "<IPython.core.display.HTML object>"
            ]
          },
          "metadata": {},
          "output_type": "display_data"
        },
        {
          "name": "stderr",
          "output_type": "stream",
          "text": [
            "\u001b[34m\u001b[1mwandb\u001b[0m: \u001b[33mWARNING\u001b[0m Ignored wandb.init() arg project when running a sweep.\n"
          ]
        },
        {
          "data": {
            "text/html": [
              "Tracking run with wandb version 0.15.8"
            ],
            "text/plain": [
              "<IPython.core.display.HTML object>"
            ]
          },
          "metadata": {},
          "output_type": "display_data"
        },
        {
          "data": {
            "text/html": [
              "Run data is saved locally in <code>/content/wandb/run-20230816_191611-m0gbidzx</code>"
            ],
            "text/plain": [
              "<IPython.core.display.HTML object>"
            ]
          },
          "metadata": {},
          "output_type": "display_data"
        },
        {
          "data": {
            "text/html": [
              "Syncing run <strong><a href='https://wandb.ai/11785-sg/CIFAR-Sweep2/runs/m0gbidzx' target=\"_blank\">1-2dcnn</a></strong> to <a href='https://wandb.ai/11785-sg/CIFAR-Sweep2' target=\"_blank\">Weights & Biases</a> (<a href='https://wandb.me/run' target=\"_blank\">docs</a>)<br/>Sweep page: <a href='https://wandb.ai/11785-sg/CIFAR-Sweep2/sweeps/krmj5sop' target=\"_blank\">https://wandb.ai/11785-sg/CIFAR-Sweep2/sweeps/krmj5sop</a>"
            ],
            "text/plain": [
              "<IPython.core.display.HTML object>"
            ]
          },
          "metadata": {},
          "output_type": "display_data"
        },
        {
          "data": {
            "text/html": [
              " View project at <a href='https://wandb.ai/11785-sg/CIFAR-Sweep2' target=\"_blank\">https://wandb.ai/11785-sg/CIFAR-Sweep2</a>"
            ],
            "text/plain": [
              "<IPython.core.display.HTML object>"
            ]
          },
          "metadata": {},
          "output_type": "display_data"
        },
        {
          "data": {
            "text/html": [
              " View sweep at <a href='https://wandb.ai/11785-sg/CIFAR-Sweep2/sweeps/krmj5sop' target=\"_blank\">https://wandb.ai/11785-sg/CIFAR-Sweep2/sweeps/krmj5sop</a>"
            ],
            "text/plain": [
              "<IPython.core.display.HTML object>"
            ]
          },
          "metadata": {},
          "output_type": "display_data"
        },
        {
          "data": {
            "text/html": [
              " View run at <a href='https://wandb.ai/11785-sg/CIFAR-Sweep2/runs/m0gbidzx' target=\"_blank\">https://wandb.ai/11785-sg/CIFAR-Sweep2/runs/m0gbidzx</a>"
            ],
            "text/plain": [
              "<IPython.core.display.HTML object>"
            ]
          },
          "metadata": {},
          "output_type": "display_data"
        }
      ],
      "source": [
        "run = wandb.init(\n",
        "    project     = \"wandb-quickstart\",\n",
        "    job_type    = \"model-training\",\n",
        "    name        = run_config['model'],\n",
        "    config      = run_config\n",
        "    )"
      ]
    },
    {
      "cell_type": "code",
      "execution_count": null,
      "metadata": {
        "colab": {
          "base_uri": "https://localhost:8080/"
        },
        "id": "t9FjIkHGZdw6",
        "outputId": "1012da7e-7692-4a7c-922f-d7e5c1b51a90"
      },
      "outputs": [
        {
          "name": "stderr",
          "output_type": "stream",
          "text": []
        },
        {
          "name": "stdout",
          "output_type": "stream",
          "text": [
            "Epoch 1/5: Train Acc 44.6620%, Train Loss 1.5556, Learning Rate 0.0050\n"
          ]
        },
        {
          "name": "stderr",
          "output_type": "stream",
          "text": []
        },
        {
          "name": "stdout",
          "output_type": "stream",
          "text": [
            "Epoch 2/5: Train Acc 53.7480%, Train Loss 1.3205, Learning Rate 0.0050\n"
          ]
        },
        {
          "name": "stderr",
          "output_type": "stream",
          "text": []
        },
        {
          "name": "stdout",
          "output_type": "stream",
          "text": [
            "Epoch 3/5: Train Acc 57.1420%, Train Loss 1.2293, Learning Rate 0.0050\n"
          ]
        },
        {
          "name": "stderr",
          "output_type": "stream",
          "text": []
        },
        {
          "name": "stdout",
          "output_type": "stream",
          "text": [
            "Epoch 4/5: Train Acc 58.6000%, Train Loss 1.1885, Learning Rate 0.0050\n"
          ]
        },
        {
          "name": "stderr",
          "output_type": "stream",
          "text": []
        },
        {
          "name": "stdout",
          "output_type": "stream",
          "text": [
            "Epoch 5/5: Train Acc 59.8800%, Train Loss 1.1565, Learning Rate 0.0050\n"
          ]
        }
      ],
      "source": [
        "train(model, finish=False) #run should not finish for using artifact"
      ]
    },
    {
      "cell_type": "code",
      "execution_count": null,
      "metadata": {
        "colab": {
          "base_uri": "https://localhost:8080/"
        },
        "id": "29H1tmQjGKsp",
        "outputId": "d53d318f-f2a8-4098-a9b1-0584aa5fc40f"
      },
      "outputs": [
        {
          "name": "stderr",
          "output_type": "stream",
          "text": [
            "\u001b[34m\u001b[1mwandb\u001b[0m:   1 of 1 files downloaded.  \n"
          ]
        }
      ],
      "source": [
        "## Retreiving the model\n",
        "\n",
        "# Getting the latest version of the artifact\n",
        "artifact = run.use_artifact('{}:latest'.format(run_config['model']))\n",
        "# Downloading the artifact\n",
        "artifact_dir = artifact.download()\n",
        "# Loading the model\n",
        "model_dict = torch.load(os.path.join(artifact_dir, 'Model'))\n",
        "\n",
        "\n",
        "# Loading weights\n",
        "model.load_state_dict(model_dict['model_state_dict'])\n",
        "# Loading optimizer state\n",
        "optimizer.load_state_dict(model_dict['optimizer_state_dict'])"
      ]
    },
    {
      "cell_type": "code",
      "execution_count": null,
      "metadata": {
        "colab": {
          "base_uri": "https://localhost:8080/",
          "height": 248
        },
        "id": "2kmyvmCX_Bk_",
        "outputId": "6b32c33a-7270-4065-cc8c-29f54430e2b8"
      },
      "outputs": [
        {
          "data": {
            "text/html": [
              "Waiting for W&B process to finish... <strong style=\"color:green\">(success).</strong>"
            ],
            "text/plain": [
              "<IPython.core.display.HTML object>"
            ]
          },
          "metadata": {},
          "output_type": "display_data"
        },
        {
          "data": {
            "text/html": [
              "<style>\n",
              "    table.wandb td:nth-child(1) { padding: 0 10px; text-align: left ; width: auto;} td:nth-child(2) {text-align: left ; width: 100%}\n",
              "    .wandb-row { display: flex; flex-direction: row; flex-wrap: wrap; justify-content: flex-start; width: 100% }\n",
              "    .wandb-col { display: flex; flex-direction: column; flex-basis: 100%; flex: 1; padding: 10px; }\n",
              "    </style>\n",
              "<div class=\"wandb-row\"><div class=\"wandb-col\"><h3>Run history:</h3><br/><table class=\"wandb\"><tr><td>lr</td><td>▁▁▁▁▁</td></tr><tr><td>train_acc</td><td>▁▅▇▇█</td></tr><tr><td>train_loss</td><td>█▄▂▂▁</td></tr></table><br/></div><div class=\"wandb-col\"><h3>Run summary:</h3><br/><table class=\"wandb\"><tr><td>lr</td><td>0.005</td></tr><tr><td>train_acc</td><td>59.88</td></tr><tr><td>train_loss</td><td>1.15649</td></tr></table><br/></div></div>"
            ],
            "text/plain": [
              "<IPython.core.display.HTML object>"
            ]
          },
          "metadata": {},
          "output_type": "display_data"
        },
        {
          "data": {
            "text/html": [
              " View run <strong style=\"color:#cdcd00\">1-2dcnn</strong> at: <a href='https://wandb.ai/11785-sg/CIFAR-Sweep2/runs/m0gbidzx' target=\"_blank\">https://wandb.ai/11785-sg/CIFAR-Sweep2/runs/m0gbidzx</a><br/>Synced 5 W&B file(s), 0 media file(s), 5 artifact file(s) and 0 other file(s)"
            ],
            "text/plain": [
              "<IPython.core.display.HTML object>"
            ]
          },
          "metadata": {},
          "output_type": "display_data"
        },
        {
          "data": {
            "text/html": [
              "Find logs at: <code>./wandb/run-20230816_191611-m0gbidzx/logs</code>"
            ],
            "text/plain": [
              "<IPython.core.display.HTML object>"
            ]
          },
          "metadata": {},
          "output_type": "display_data"
        }
      ],
      "source": [
        "# Finishing runs\n",
        "wandb.finish()"
      ]
    }
  ],
  "metadata": {
    "accelerator": "GPU",
    "colab": {
      "provenance": [],
      "collapsed_sections": [
        "6kCHdfojKoVI",
        "TDdTm3dPLTsM",
        "r2fb6Yu0280f",
        "D6Pwt2bnP3sR"
      ],
      "toc_visible": true,
      "include_colab_link": true
    },
    "gpuClass": "standard",
    "kernelspec": {
      "display_name": "Python 3",
      "name": "python3"
    },
    "language_info": {
      "name": "python"
    },
    "widgets": {
      "application/vnd.jupyter.widget-state+json": {
        "94f663a70f8f43b6ad1b4e4df8037d8d": {
          "model_module": "@jupyter-widgets/controls",
          "model_name": "VBoxModel",
          "model_module_version": "1.5.0",
          "state": {
            "_dom_classes": [],
            "_model_module": "@jupyter-widgets/controls",
            "_model_module_version": "1.5.0",
            "_model_name": "VBoxModel",
            "_view_count": null,
            "_view_module": "@jupyter-widgets/controls",
            "_view_module_version": "1.5.0",
            "_view_name": "VBoxView",
            "box_style": "",
            "children": [
              "IPY_MODEL_ae3f8a050cf24b40ac7164af22d0d0bf",
              "IPY_MODEL_1fe4cbb2893d4ae59278fd779ca3cb75"
            ],
            "layout": "IPY_MODEL_752797808acd4e5badcc935817b290db"
          }
        },
        "ae3f8a050cf24b40ac7164af22d0d0bf": {
          "model_module": "@jupyter-widgets/controls",
          "model_name": "LabelModel",
          "model_module_version": "1.5.0",
          "state": {
            "_dom_classes": [],
            "_model_module": "@jupyter-widgets/controls",
            "_model_module_version": "1.5.0",
            "_model_name": "LabelModel",
            "_view_count": null,
            "_view_module": "@jupyter-widgets/controls",
            "_view_module_version": "1.5.0",
            "_view_name": "LabelView",
            "description": "",
            "description_tooltip": null,
            "layout": "IPY_MODEL_130193ecadb4427ead38a4924a29e35b",
            "placeholder": "​",
            "style": "IPY_MODEL_0a03fd463b4c4c8d85c6458621d1323a",
            "value": "0.178 MB of 0.178 MB uploaded\r"
          }
        },
        "1fe4cbb2893d4ae59278fd779ca3cb75": {
          "model_module": "@jupyter-widgets/controls",
          "model_name": "FloatProgressModel",
          "model_module_version": "1.5.0",
          "state": {
            "_dom_classes": [],
            "_model_module": "@jupyter-widgets/controls",
            "_model_module_version": "1.5.0",
            "_model_name": "FloatProgressModel",
            "_view_count": null,
            "_view_module": "@jupyter-widgets/controls",
            "_view_module_version": "1.5.0",
            "_view_name": "ProgressView",
            "bar_style": "",
            "description": "",
            "description_tooltip": null,
            "layout": "IPY_MODEL_6a4651aae9874359b69a90cdcea97eb2",
            "max": 1,
            "min": 0,
            "orientation": "horizontal",
            "style": "IPY_MODEL_2db7ecde023e494f91243eeb4f28378a",
            "value": 1
          }
        },
        "752797808acd4e5badcc935817b290db": {
          "model_module": "@jupyter-widgets/base",
          "model_name": "LayoutModel",
          "model_module_version": "1.2.0",
          "state": {
            "_model_module": "@jupyter-widgets/base",
            "_model_module_version": "1.2.0",
            "_model_name": "LayoutModel",
            "_view_count": null,
            "_view_module": "@jupyter-widgets/base",
            "_view_module_version": "1.2.0",
            "_view_name": "LayoutView",
            "align_content": null,
            "align_items": null,
            "align_self": null,
            "border": null,
            "bottom": null,
            "display": null,
            "flex": null,
            "flex_flow": null,
            "grid_area": null,
            "grid_auto_columns": null,
            "grid_auto_flow": null,
            "grid_auto_rows": null,
            "grid_column": null,
            "grid_gap": null,
            "grid_row": null,
            "grid_template_areas": null,
            "grid_template_columns": null,
            "grid_template_rows": null,
            "height": null,
            "justify_content": null,
            "justify_items": null,
            "left": null,
            "margin": null,
            "max_height": null,
            "max_width": null,
            "min_height": null,
            "min_width": null,
            "object_fit": null,
            "object_position": null,
            "order": null,
            "overflow": null,
            "overflow_x": null,
            "overflow_y": null,
            "padding": null,
            "right": null,
            "top": null,
            "visibility": null,
            "width": null
          }
        },
        "130193ecadb4427ead38a4924a29e35b": {
          "model_module": "@jupyter-widgets/base",
          "model_name": "LayoutModel",
          "model_module_version": "1.2.0",
          "state": {
            "_model_module": "@jupyter-widgets/base",
            "_model_module_version": "1.2.0",
            "_model_name": "LayoutModel",
            "_view_count": null,
            "_view_module": "@jupyter-widgets/base",
            "_view_module_version": "1.2.0",
            "_view_name": "LayoutView",
            "align_content": null,
            "align_items": null,
            "align_self": null,
            "border": null,
            "bottom": null,
            "display": null,
            "flex": null,
            "flex_flow": null,
            "grid_area": null,
            "grid_auto_columns": null,
            "grid_auto_flow": null,
            "grid_auto_rows": null,
            "grid_column": null,
            "grid_gap": null,
            "grid_row": null,
            "grid_template_areas": null,
            "grid_template_columns": null,
            "grid_template_rows": null,
            "height": null,
            "justify_content": null,
            "justify_items": null,
            "left": null,
            "margin": null,
            "max_height": null,
            "max_width": null,
            "min_height": null,
            "min_width": null,
            "object_fit": null,
            "object_position": null,
            "order": null,
            "overflow": null,
            "overflow_x": null,
            "overflow_y": null,
            "padding": null,
            "right": null,
            "top": null,
            "visibility": null,
            "width": null
          }
        },
        "0a03fd463b4c4c8d85c6458621d1323a": {
          "model_module": "@jupyter-widgets/controls",
          "model_name": "DescriptionStyleModel",
          "model_module_version": "1.5.0",
          "state": {
            "_model_module": "@jupyter-widgets/controls",
            "_model_module_version": "1.5.0",
            "_model_name": "DescriptionStyleModel",
            "_view_count": null,
            "_view_module": "@jupyter-widgets/base",
            "_view_module_version": "1.2.0",
            "_view_name": "StyleView",
            "description_width": ""
          }
        },
        "6a4651aae9874359b69a90cdcea97eb2": {
          "model_module": "@jupyter-widgets/base",
          "model_name": "LayoutModel",
          "model_module_version": "1.2.0",
          "state": {
            "_model_module": "@jupyter-widgets/base",
            "_model_module_version": "1.2.0",
            "_model_name": "LayoutModel",
            "_view_count": null,
            "_view_module": "@jupyter-widgets/base",
            "_view_module_version": "1.2.0",
            "_view_name": "LayoutView",
            "align_content": null,
            "align_items": null,
            "align_self": null,
            "border": null,
            "bottom": null,
            "display": null,
            "flex": null,
            "flex_flow": null,
            "grid_area": null,
            "grid_auto_columns": null,
            "grid_auto_flow": null,
            "grid_auto_rows": null,
            "grid_column": null,
            "grid_gap": null,
            "grid_row": null,
            "grid_template_areas": null,
            "grid_template_columns": null,
            "grid_template_rows": null,
            "height": null,
            "justify_content": null,
            "justify_items": null,
            "left": null,
            "margin": null,
            "max_height": null,
            "max_width": null,
            "min_height": null,
            "min_width": null,
            "object_fit": null,
            "object_position": null,
            "order": null,
            "overflow": null,
            "overflow_x": null,
            "overflow_y": null,
            "padding": null,
            "right": null,
            "top": null,
            "visibility": null,
            "width": null
          }
        },
        "2db7ecde023e494f91243eeb4f28378a": {
          "model_module": "@jupyter-widgets/controls",
          "model_name": "ProgressStyleModel",
          "model_module_version": "1.5.0",
          "state": {
            "_model_module": "@jupyter-widgets/controls",
            "_model_module_version": "1.5.0",
            "_model_name": "ProgressStyleModel",
            "_view_count": null,
            "_view_module": "@jupyter-widgets/base",
            "_view_module_version": "1.2.0",
            "_view_name": "StyleView",
            "bar_color": null,
            "description_width": ""
          }
        },
        "4b5f56e8524742fc862ab65f911281c1": {
          "model_module": "@jupyter-widgets/controls",
          "model_name": "VBoxModel",
          "model_module_version": "1.5.0",
          "state": {
            "_dom_classes": [],
            "_model_module": "@jupyter-widgets/controls",
            "_model_module_version": "1.5.0",
            "_model_name": "VBoxModel",
            "_view_count": null,
            "_view_module": "@jupyter-widgets/controls",
            "_view_module_version": "1.5.0",
            "_view_name": "VBoxView",
            "box_style": "",
            "children": [
              "IPY_MODEL_0e2edbc42d974b1bb880e42cee2d7226",
              "IPY_MODEL_5213d2682c5249e98512981975384a4a"
            ],
            "layout": "IPY_MODEL_e73e48ec4a70430e8c9d7c9c423c473b"
          }
        },
        "0e2edbc42d974b1bb880e42cee2d7226": {
          "model_module": "@jupyter-widgets/controls",
          "model_name": "LabelModel",
          "model_module_version": "1.5.0",
          "state": {
            "_dom_classes": [],
            "_model_module": "@jupyter-widgets/controls",
            "_model_module_version": "1.5.0",
            "_model_name": "LabelModel",
            "_view_count": null,
            "_view_module": "@jupyter-widgets/controls",
            "_view_module_version": "1.5.0",
            "_view_name": "LabelView",
            "description": "",
            "description_tooltip": null,
            "layout": "IPY_MODEL_9cfb999a32c14178a6145a120b1087bf",
            "placeholder": "​",
            "style": "IPY_MODEL_e33f0057db6d4801a0cc89b07c572632",
            "value": "0.012 MB of 0.012 MB uploaded\r"
          }
        },
        "5213d2682c5249e98512981975384a4a": {
          "model_module": "@jupyter-widgets/controls",
          "model_name": "FloatProgressModel",
          "model_module_version": "1.5.0",
          "state": {
            "_dom_classes": [],
            "_model_module": "@jupyter-widgets/controls",
            "_model_module_version": "1.5.0",
            "_model_name": "FloatProgressModel",
            "_view_count": null,
            "_view_module": "@jupyter-widgets/controls",
            "_view_module_version": "1.5.0",
            "_view_name": "ProgressView",
            "bar_style": "",
            "description": "",
            "description_tooltip": null,
            "layout": "IPY_MODEL_3d96844aa2f84d90962480a3bfe2f0f8",
            "max": 1,
            "min": 0,
            "orientation": "horizontal",
            "style": "IPY_MODEL_fc354a4bc7414bdc9a360f0cc6d6a856",
            "value": 1
          }
        },
        "e73e48ec4a70430e8c9d7c9c423c473b": {
          "model_module": "@jupyter-widgets/base",
          "model_name": "LayoutModel",
          "model_module_version": "1.2.0",
          "state": {
            "_model_module": "@jupyter-widgets/base",
            "_model_module_version": "1.2.0",
            "_model_name": "LayoutModel",
            "_view_count": null,
            "_view_module": "@jupyter-widgets/base",
            "_view_module_version": "1.2.0",
            "_view_name": "LayoutView",
            "align_content": null,
            "align_items": null,
            "align_self": null,
            "border": null,
            "bottom": null,
            "display": null,
            "flex": null,
            "flex_flow": null,
            "grid_area": null,
            "grid_auto_columns": null,
            "grid_auto_flow": null,
            "grid_auto_rows": null,
            "grid_column": null,
            "grid_gap": null,
            "grid_row": null,
            "grid_template_areas": null,
            "grid_template_columns": null,
            "grid_template_rows": null,
            "height": null,
            "justify_content": null,
            "justify_items": null,
            "left": null,
            "margin": null,
            "max_height": null,
            "max_width": null,
            "min_height": null,
            "min_width": null,
            "object_fit": null,
            "object_position": null,
            "order": null,
            "overflow": null,
            "overflow_x": null,
            "overflow_y": null,
            "padding": null,
            "right": null,
            "top": null,
            "visibility": null,
            "width": null
          }
        },
        "9cfb999a32c14178a6145a120b1087bf": {
          "model_module": "@jupyter-widgets/base",
          "model_name": "LayoutModel",
          "model_module_version": "1.2.0",
          "state": {
            "_model_module": "@jupyter-widgets/base",
            "_model_module_version": "1.2.0",
            "_model_name": "LayoutModel",
            "_view_count": null,
            "_view_module": "@jupyter-widgets/base",
            "_view_module_version": "1.2.0",
            "_view_name": "LayoutView",
            "align_content": null,
            "align_items": null,
            "align_self": null,
            "border": null,
            "bottom": null,
            "display": null,
            "flex": null,
            "flex_flow": null,
            "grid_area": null,
            "grid_auto_columns": null,
            "grid_auto_flow": null,
            "grid_auto_rows": null,
            "grid_column": null,
            "grid_gap": null,
            "grid_row": null,
            "grid_template_areas": null,
            "grid_template_columns": null,
            "grid_template_rows": null,
            "height": null,
            "justify_content": null,
            "justify_items": null,
            "left": null,
            "margin": null,
            "max_height": null,
            "max_width": null,
            "min_height": null,
            "min_width": null,
            "object_fit": null,
            "object_position": null,
            "order": null,
            "overflow": null,
            "overflow_x": null,
            "overflow_y": null,
            "padding": null,
            "right": null,
            "top": null,
            "visibility": null,
            "width": null
          }
        },
        "e33f0057db6d4801a0cc89b07c572632": {
          "model_module": "@jupyter-widgets/controls",
          "model_name": "DescriptionStyleModel",
          "model_module_version": "1.5.0",
          "state": {
            "_model_module": "@jupyter-widgets/controls",
            "_model_module_version": "1.5.0",
            "_model_name": "DescriptionStyleModel",
            "_view_count": null,
            "_view_module": "@jupyter-widgets/base",
            "_view_module_version": "1.2.0",
            "_view_name": "StyleView",
            "description_width": ""
          }
        },
        "3d96844aa2f84d90962480a3bfe2f0f8": {
          "model_module": "@jupyter-widgets/base",
          "model_name": "LayoutModel",
          "model_module_version": "1.2.0",
          "state": {
            "_model_module": "@jupyter-widgets/base",
            "_model_module_version": "1.2.0",
            "_model_name": "LayoutModel",
            "_view_count": null,
            "_view_module": "@jupyter-widgets/base",
            "_view_module_version": "1.2.0",
            "_view_name": "LayoutView",
            "align_content": null,
            "align_items": null,
            "align_self": null,
            "border": null,
            "bottom": null,
            "display": null,
            "flex": null,
            "flex_flow": null,
            "grid_area": null,
            "grid_auto_columns": null,
            "grid_auto_flow": null,
            "grid_auto_rows": null,
            "grid_column": null,
            "grid_gap": null,
            "grid_row": null,
            "grid_template_areas": null,
            "grid_template_columns": null,
            "grid_template_rows": null,
            "height": null,
            "justify_content": null,
            "justify_items": null,
            "left": null,
            "margin": null,
            "max_height": null,
            "max_width": null,
            "min_height": null,
            "min_width": null,
            "object_fit": null,
            "object_position": null,
            "order": null,
            "overflow": null,
            "overflow_x": null,
            "overflow_y": null,
            "padding": null,
            "right": null,
            "top": null,
            "visibility": null,
            "width": null
          }
        },
        "fc354a4bc7414bdc9a360f0cc6d6a856": {
          "model_module": "@jupyter-widgets/controls",
          "model_name": "ProgressStyleModel",
          "model_module_version": "1.5.0",
          "state": {
            "_model_module": "@jupyter-widgets/controls",
            "_model_module_version": "1.5.0",
            "_model_name": "ProgressStyleModel",
            "_view_count": null,
            "_view_module": "@jupyter-widgets/base",
            "_view_module_version": "1.2.0",
            "_view_name": "StyleView",
            "bar_color": null,
            "description_width": ""
          }
        },
        "1ea6303676a544ffba5c2b1d2ec3aa7c": {
          "model_module": "@jupyter-widgets/controls",
          "model_name": "VBoxModel",
          "model_module_version": "1.5.0",
          "state": {
            "_dom_classes": [],
            "_model_module": "@jupyter-widgets/controls",
            "_model_module_version": "1.5.0",
            "_model_name": "VBoxModel",
            "_view_count": null,
            "_view_module": "@jupyter-widgets/controls",
            "_view_module_version": "1.5.0",
            "_view_name": "VBoxView",
            "box_style": "",
            "children": [
              "IPY_MODEL_539fab9350c344cb9de8b242919f2630",
              "IPY_MODEL_41403ae68a2942c8b22fb620a72eed8b"
            ],
            "layout": "IPY_MODEL_ca6e0405fa7b4f04965bce653ef64334"
          }
        },
        "539fab9350c344cb9de8b242919f2630": {
          "model_module": "@jupyter-widgets/controls",
          "model_name": "LabelModel",
          "model_module_version": "1.5.0",
          "state": {
            "_dom_classes": [],
            "_model_module": "@jupyter-widgets/controls",
            "_model_module_version": "1.5.0",
            "_model_name": "LabelModel",
            "_view_count": null,
            "_view_module": "@jupyter-widgets/controls",
            "_view_module_version": "1.5.0",
            "_view_name": "LabelView",
            "description": "",
            "description_tooltip": null,
            "layout": "IPY_MODEL_9655d414833a427ab6d14188c6f9cb4a",
            "placeholder": "​",
            "style": "IPY_MODEL_6ecc1bc9a0114a34b6db62fbe6797194",
            "value": "0.012 MB of 0.012 MB uploaded\r"
          }
        },
        "41403ae68a2942c8b22fb620a72eed8b": {
          "model_module": "@jupyter-widgets/controls",
          "model_name": "FloatProgressModel",
          "model_module_version": "1.5.0",
          "state": {
            "_dom_classes": [],
            "_model_module": "@jupyter-widgets/controls",
            "_model_module_version": "1.5.0",
            "_model_name": "FloatProgressModel",
            "_view_count": null,
            "_view_module": "@jupyter-widgets/controls",
            "_view_module_version": "1.5.0",
            "_view_name": "ProgressView",
            "bar_style": "",
            "description": "",
            "description_tooltip": null,
            "layout": "IPY_MODEL_8d85092b6fa842cea44229b416350e46",
            "max": 1,
            "min": 0,
            "orientation": "horizontal",
            "style": "IPY_MODEL_5294856ee31243bbb77a86b5f6b0c712",
            "value": 1
          }
        },
        "ca6e0405fa7b4f04965bce653ef64334": {
          "model_module": "@jupyter-widgets/base",
          "model_name": "LayoutModel",
          "model_module_version": "1.2.0",
          "state": {
            "_model_module": "@jupyter-widgets/base",
            "_model_module_version": "1.2.0",
            "_model_name": "LayoutModel",
            "_view_count": null,
            "_view_module": "@jupyter-widgets/base",
            "_view_module_version": "1.2.0",
            "_view_name": "LayoutView",
            "align_content": null,
            "align_items": null,
            "align_self": null,
            "border": null,
            "bottom": null,
            "display": null,
            "flex": null,
            "flex_flow": null,
            "grid_area": null,
            "grid_auto_columns": null,
            "grid_auto_flow": null,
            "grid_auto_rows": null,
            "grid_column": null,
            "grid_gap": null,
            "grid_row": null,
            "grid_template_areas": null,
            "grid_template_columns": null,
            "grid_template_rows": null,
            "height": null,
            "justify_content": null,
            "justify_items": null,
            "left": null,
            "margin": null,
            "max_height": null,
            "max_width": null,
            "min_height": null,
            "min_width": null,
            "object_fit": null,
            "object_position": null,
            "order": null,
            "overflow": null,
            "overflow_x": null,
            "overflow_y": null,
            "padding": null,
            "right": null,
            "top": null,
            "visibility": null,
            "width": null
          }
        },
        "9655d414833a427ab6d14188c6f9cb4a": {
          "model_module": "@jupyter-widgets/base",
          "model_name": "LayoutModel",
          "model_module_version": "1.2.0",
          "state": {
            "_model_module": "@jupyter-widgets/base",
            "_model_module_version": "1.2.0",
            "_model_name": "LayoutModel",
            "_view_count": null,
            "_view_module": "@jupyter-widgets/base",
            "_view_module_version": "1.2.0",
            "_view_name": "LayoutView",
            "align_content": null,
            "align_items": null,
            "align_self": null,
            "border": null,
            "bottom": null,
            "display": null,
            "flex": null,
            "flex_flow": null,
            "grid_area": null,
            "grid_auto_columns": null,
            "grid_auto_flow": null,
            "grid_auto_rows": null,
            "grid_column": null,
            "grid_gap": null,
            "grid_row": null,
            "grid_template_areas": null,
            "grid_template_columns": null,
            "grid_template_rows": null,
            "height": null,
            "justify_content": null,
            "justify_items": null,
            "left": null,
            "margin": null,
            "max_height": null,
            "max_width": null,
            "min_height": null,
            "min_width": null,
            "object_fit": null,
            "object_position": null,
            "order": null,
            "overflow": null,
            "overflow_x": null,
            "overflow_y": null,
            "padding": null,
            "right": null,
            "top": null,
            "visibility": null,
            "width": null
          }
        },
        "6ecc1bc9a0114a34b6db62fbe6797194": {
          "model_module": "@jupyter-widgets/controls",
          "model_name": "DescriptionStyleModel",
          "model_module_version": "1.5.0",
          "state": {
            "_model_module": "@jupyter-widgets/controls",
            "_model_module_version": "1.5.0",
            "_model_name": "DescriptionStyleModel",
            "_view_count": null,
            "_view_module": "@jupyter-widgets/base",
            "_view_module_version": "1.2.0",
            "_view_name": "StyleView",
            "description_width": ""
          }
        },
        "8d85092b6fa842cea44229b416350e46": {
          "model_module": "@jupyter-widgets/base",
          "model_name": "LayoutModel",
          "model_module_version": "1.2.0",
          "state": {
            "_model_module": "@jupyter-widgets/base",
            "_model_module_version": "1.2.0",
            "_model_name": "LayoutModel",
            "_view_count": null,
            "_view_module": "@jupyter-widgets/base",
            "_view_module_version": "1.2.0",
            "_view_name": "LayoutView",
            "align_content": null,
            "align_items": null,
            "align_self": null,
            "border": null,
            "bottom": null,
            "display": null,
            "flex": null,
            "flex_flow": null,
            "grid_area": null,
            "grid_auto_columns": null,
            "grid_auto_flow": null,
            "grid_auto_rows": null,
            "grid_column": null,
            "grid_gap": null,
            "grid_row": null,
            "grid_template_areas": null,
            "grid_template_columns": null,
            "grid_template_rows": null,
            "height": null,
            "justify_content": null,
            "justify_items": null,
            "left": null,
            "margin": null,
            "max_height": null,
            "max_width": null,
            "min_height": null,
            "min_width": null,
            "object_fit": null,
            "object_position": null,
            "order": null,
            "overflow": null,
            "overflow_x": null,
            "overflow_y": null,
            "padding": null,
            "right": null,
            "top": null,
            "visibility": null,
            "width": null
          }
        },
        "5294856ee31243bbb77a86b5f6b0c712": {
          "model_module": "@jupyter-widgets/controls",
          "model_name": "ProgressStyleModel",
          "model_module_version": "1.5.0",
          "state": {
            "_model_module": "@jupyter-widgets/controls",
            "_model_module_version": "1.5.0",
            "_model_name": "ProgressStyleModel",
            "_view_count": null,
            "_view_module": "@jupyter-widgets/base",
            "_view_module_version": "1.2.0",
            "_view_name": "StyleView",
            "bar_color": null,
            "description_width": ""
          }
        },
        "15196897e6994985a073a2826513a681": {
          "model_module": "@jupyter-widgets/controls",
          "model_name": "VBoxModel",
          "model_module_version": "1.5.0",
          "state": {
            "_dom_classes": [],
            "_model_module": "@jupyter-widgets/controls",
            "_model_module_version": "1.5.0",
            "_model_name": "VBoxModel",
            "_view_count": null,
            "_view_module": "@jupyter-widgets/controls",
            "_view_module_version": "1.5.0",
            "_view_name": "VBoxView",
            "box_style": "",
            "children": [
              "IPY_MODEL_007791be032d40da9496a182a16a4291",
              "IPY_MODEL_f6046a3e55c3436f8e95b39c84d99861"
            ],
            "layout": "IPY_MODEL_e76d27a977db47a5865491f6ad490f0e"
          }
        },
        "007791be032d40da9496a182a16a4291": {
          "model_module": "@jupyter-widgets/controls",
          "model_name": "LabelModel",
          "model_module_version": "1.5.0",
          "state": {
            "_dom_classes": [],
            "_model_module": "@jupyter-widgets/controls",
            "_model_module_version": "1.5.0",
            "_model_name": "LabelModel",
            "_view_count": null,
            "_view_module": "@jupyter-widgets/controls",
            "_view_module_version": "1.5.0",
            "_view_name": "LabelView",
            "description": "",
            "description_tooltip": null,
            "layout": "IPY_MODEL_7eb185ed915e46f8bab1dd7ca4d22eb6",
            "placeholder": "​",
            "style": "IPY_MODEL_97ca36fae78e4269a41a49bd3b0dbda8",
            "value": "0.012 MB of 0.012 MB uploaded\r"
          }
        },
        "f6046a3e55c3436f8e95b39c84d99861": {
          "model_module": "@jupyter-widgets/controls",
          "model_name": "FloatProgressModel",
          "model_module_version": "1.5.0",
          "state": {
            "_dom_classes": [],
            "_model_module": "@jupyter-widgets/controls",
            "_model_module_version": "1.5.0",
            "_model_name": "FloatProgressModel",
            "_view_count": null,
            "_view_module": "@jupyter-widgets/controls",
            "_view_module_version": "1.5.0",
            "_view_name": "ProgressView",
            "bar_style": "",
            "description": "",
            "description_tooltip": null,
            "layout": "IPY_MODEL_1b90bdef12984538b266aae3687bae42",
            "max": 1,
            "min": 0,
            "orientation": "horizontal",
            "style": "IPY_MODEL_eb83c3eae9f3472f8c66d048f46811c3",
            "value": 1
          }
        },
        "e76d27a977db47a5865491f6ad490f0e": {
          "model_module": "@jupyter-widgets/base",
          "model_name": "LayoutModel",
          "model_module_version": "1.2.0",
          "state": {
            "_model_module": "@jupyter-widgets/base",
            "_model_module_version": "1.2.0",
            "_model_name": "LayoutModel",
            "_view_count": null,
            "_view_module": "@jupyter-widgets/base",
            "_view_module_version": "1.2.0",
            "_view_name": "LayoutView",
            "align_content": null,
            "align_items": null,
            "align_self": null,
            "border": null,
            "bottom": null,
            "display": null,
            "flex": null,
            "flex_flow": null,
            "grid_area": null,
            "grid_auto_columns": null,
            "grid_auto_flow": null,
            "grid_auto_rows": null,
            "grid_column": null,
            "grid_gap": null,
            "grid_row": null,
            "grid_template_areas": null,
            "grid_template_columns": null,
            "grid_template_rows": null,
            "height": null,
            "justify_content": null,
            "justify_items": null,
            "left": null,
            "margin": null,
            "max_height": null,
            "max_width": null,
            "min_height": null,
            "min_width": null,
            "object_fit": null,
            "object_position": null,
            "order": null,
            "overflow": null,
            "overflow_x": null,
            "overflow_y": null,
            "padding": null,
            "right": null,
            "top": null,
            "visibility": null,
            "width": null
          }
        },
        "7eb185ed915e46f8bab1dd7ca4d22eb6": {
          "model_module": "@jupyter-widgets/base",
          "model_name": "LayoutModel",
          "model_module_version": "1.2.0",
          "state": {
            "_model_module": "@jupyter-widgets/base",
            "_model_module_version": "1.2.0",
            "_model_name": "LayoutModel",
            "_view_count": null,
            "_view_module": "@jupyter-widgets/base",
            "_view_module_version": "1.2.0",
            "_view_name": "LayoutView",
            "align_content": null,
            "align_items": null,
            "align_self": null,
            "border": null,
            "bottom": null,
            "display": null,
            "flex": null,
            "flex_flow": null,
            "grid_area": null,
            "grid_auto_columns": null,
            "grid_auto_flow": null,
            "grid_auto_rows": null,
            "grid_column": null,
            "grid_gap": null,
            "grid_row": null,
            "grid_template_areas": null,
            "grid_template_columns": null,
            "grid_template_rows": null,
            "height": null,
            "justify_content": null,
            "justify_items": null,
            "left": null,
            "margin": null,
            "max_height": null,
            "max_width": null,
            "min_height": null,
            "min_width": null,
            "object_fit": null,
            "object_position": null,
            "order": null,
            "overflow": null,
            "overflow_x": null,
            "overflow_y": null,
            "padding": null,
            "right": null,
            "top": null,
            "visibility": null,
            "width": null
          }
        },
        "97ca36fae78e4269a41a49bd3b0dbda8": {
          "model_module": "@jupyter-widgets/controls",
          "model_name": "DescriptionStyleModel",
          "model_module_version": "1.5.0",
          "state": {
            "_model_module": "@jupyter-widgets/controls",
            "_model_module_version": "1.5.0",
            "_model_name": "DescriptionStyleModel",
            "_view_count": null,
            "_view_module": "@jupyter-widgets/base",
            "_view_module_version": "1.2.0",
            "_view_name": "StyleView",
            "description_width": ""
          }
        },
        "1b90bdef12984538b266aae3687bae42": {
          "model_module": "@jupyter-widgets/base",
          "model_name": "LayoutModel",
          "model_module_version": "1.2.0",
          "state": {
            "_model_module": "@jupyter-widgets/base",
            "_model_module_version": "1.2.0",
            "_model_name": "LayoutModel",
            "_view_count": null,
            "_view_module": "@jupyter-widgets/base",
            "_view_module_version": "1.2.0",
            "_view_name": "LayoutView",
            "align_content": null,
            "align_items": null,
            "align_self": null,
            "border": null,
            "bottom": null,
            "display": null,
            "flex": null,
            "flex_flow": null,
            "grid_area": null,
            "grid_auto_columns": null,
            "grid_auto_flow": null,
            "grid_auto_rows": null,
            "grid_column": null,
            "grid_gap": null,
            "grid_row": null,
            "grid_template_areas": null,
            "grid_template_columns": null,
            "grid_template_rows": null,
            "height": null,
            "justify_content": null,
            "justify_items": null,
            "left": null,
            "margin": null,
            "max_height": null,
            "max_width": null,
            "min_height": null,
            "min_width": null,
            "object_fit": null,
            "object_position": null,
            "order": null,
            "overflow": null,
            "overflow_x": null,
            "overflow_y": null,
            "padding": null,
            "right": null,
            "top": null,
            "visibility": null,
            "width": null
          }
        },
        "eb83c3eae9f3472f8c66d048f46811c3": {
          "model_module": "@jupyter-widgets/controls",
          "model_name": "ProgressStyleModel",
          "model_module_version": "1.5.0",
          "state": {
            "_model_module": "@jupyter-widgets/controls",
            "_model_module_version": "1.5.0",
            "_model_name": "ProgressStyleModel",
            "_view_count": null,
            "_view_module": "@jupyter-widgets/base",
            "_view_module_version": "1.2.0",
            "_view_name": "StyleView",
            "bar_color": null,
            "description_width": ""
          }
        },
        "48c5aab46344419491a07b32956d9149": {
          "model_module": "@jupyter-widgets/controls",
          "model_name": "VBoxModel",
          "model_module_version": "1.5.0",
          "state": {
            "_dom_classes": [],
            "_model_module": "@jupyter-widgets/controls",
            "_model_module_version": "1.5.0",
            "_model_name": "VBoxModel",
            "_view_count": null,
            "_view_module": "@jupyter-widgets/controls",
            "_view_module_version": "1.5.0",
            "_view_name": "VBoxView",
            "box_style": "",
            "children": [
              "IPY_MODEL_f85bbc10240d452aaa43b8a1fb71ad23",
              "IPY_MODEL_93079e39f0b3483c88604ce826d16f29"
            ],
            "layout": "IPY_MODEL_32fe88ecac344a20b60ebb57a2f9e7bd"
          }
        },
        "f85bbc10240d452aaa43b8a1fb71ad23": {
          "model_module": "@jupyter-widgets/controls",
          "model_name": "LabelModel",
          "model_module_version": "1.5.0",
          "state": {
            "_dom_classes": [],
            "_model_module": "@jupyter-widgets/controls",
            "_model_module_version": "1.5.0",
            "_model_name": "LabelModel",
            "_view_count": null,
            "_view_module": "@jupyter-widgets/controls",
            "_view_module_version": "1.5.0",
            "_view_name": "LabelView",
            "description": "",
            "description_tooltip": null,
            "layout": "IPY_MODEL_0f9d62edcd284cb2b1377eda0dd90b17",
            "placeholder": "​",
            "style": "IPY_MODEL_9739ae9a68084bbca13cb3a5ebda276c",
            "value": "0.012 MB of 0.012 MB uploaded\r"
          }
        },
        "93079e39f0b3483c88604ce826d16f29": {
          "model_module": "@jupyter-widgets/controls",
          "model_name": "FloatProgressModel",
          "model_module_version": "1.5.0",
          "state": {
            "_dom_classes": [],
            "_model_module": "@jupyter-widgets/controls",
            "_model_module_version": "1.5.0",
            "_model_name": "FloatProgressModel",
            "_view_count": null,
            "_view_module": "@jupyter-widgets/controls",
            "_view_module_version": "1.5.0",
            "_view_name": "ProgressView",
            "bar_style": "",
            "description": "",
            "description_tooltip": null,
            "layout": "IPY_MODEL_96236c04527c40adad8b0ba58f0718a0",
            "max": 1,
            "min": 0,
            "orientation": "horizontal",
            "style": "IPY_MODEL_bd0113a06f2946808ef1ade0cbfe53fa",
            "value": 1
          }
        },
        "32fe88ecac344a20b60ebb57a2f9e7bd": {
          "model_module": "@jupyter-widgets/base",
          "model_name": "LayoutModel",
          "model_module_version": "1.2.0",
          "state": {
            "_model_module": "@jupyter-widgets/base",
            "_model_module_version": "1.2.0",
            "_model_name": "LayoutModel",
            "_view_count": null,
            "_view_module": "@jupyter-widgets/base",
            "_view_module_version": "1.2.0",
            "_view_name": "LayoutView",
            "align_content": null,
            "align_items": null,
            "align_self": null,
            "border": null,
            "bottom": null,
            "display": null,
            "flex": null,
            "flex_flow": null,
            "grid_area": null,
            "grid_auto_columns": null,
            "grid_auto_flow": null,
            "grid_auto_rows": null,
            "grid_column": null,
            "grid_gap": null,
            "grid_row": null,
            "grid_template_areas": null,
            "grid_template_columns": null,
            "grid_template_rows": null,
            "height": null,
            "justify_content": null,
            "justify_items": null,
            "left": null,
            "margin": null,
            "max_height": null,
            "max_width": null,
            "min_height": null,
            "min_width": null,
            "object_fit": null,
            "object_position": null,
            "order": null,
            "overflow": null,
            "overflow_x": null,
            "overflow_y": null,
            "padding": null,
            "right": null,
            "top": null,
            "visibility": null,
            "width": null
          }
        },
        "0f9d62edcd284cb2b1377eda0dd90b17": {
          "model_module": "@jupyter-widgets/base",
          "model_name": "LayoutModel",
          "model_module_version": "1.2.0",
          "state": {
            "_model_module": "@jupyter-widgets/base",
            "_model_module_version": "1.2.0",
            "_model_name": "LayoutModel",
            "_view_count": null,
            "_view_module": "@jupyter-widgets/base",
            "_view_module_version": "1.2.0",
            "_view_name": "LayoutView",
            "align_content": null,
            "align_items": null,
            "align_self": null,
            "border": null,
            "bottom": null,
            "display": null,
            "flex": null,
            "flex_flow": null,
            "grid_area": null,
            "grid_auto_columns": null,
            "grid_auto_flow": null,
            "grid_auto_rows": null,
            "grid_column": null,
            "grid_gap": null,
            "grid_row": null,
            "grid_template_areas": null,
            "grid_template_columns": null,
            "grid_template_rows": null,
            "height": null,
            "justify_content": null,
            "justify_items": null,
            "left": null,
            "margin": null,
            "max_height": null,
            "max_width": null,
            "min_height": null,
            "min_width": null,
            "object_fit": null,
            "object_position": null,
            "order": null,
            "overflow": null,
            "overflow_x": null,
            "overflow_y": null,
            "padding": null,
            "right": null,
            "top": null,
            "visibility": null,
            "width": null
          }
        },
        "9739ae9a68084bbca13cb3a5ebda276c": {
          "model_module": "@jupyter-widgets/controls",
          "model_name": "DescriptionStyleModel",
          "model_module_version": "1.5.0",
          "state": {
            "_model_module": "@jupyter-widgets/controls",
            "_model_module_version": "1.5.0",
            "_model_name": "DescriptionStyleModel",
            "_view_count": null,
            "_view_module": "@jupyter-widgets/base",
            "_view_module_version": "1.2.0",
            "_view_name": "StyleView",
            "description_width": ""
          }
        },
        "96236c04527c40adad8b0ba58f0718a0": {
          "model_module": "@jupyter-widgets/base",
          "model_name": "LayoutModel",
          "model_module_version": "1.2.0",
          "state": {
            "_model_module": "@jupyter-widgets/base",
            "_model_module_version": "1.2.0",
            "_model_name": "LayoutModel",
            "_view_count": null,
            "_view_module": "@jupyter-widgets/base",
            "_view_module_version": "1.2.0",
            "_view_name": "LayoutView",
            "align_content": null,
            "align_items": null,
            "align_self": null,
            "border": null,
            "bottom": null,
            "display": null,
            "flex": null,
            "flex_flow": null,
            "grid_area": null,
            "grid_auto_columns": null,
            "grid_auto_flow": null,
            "grid_auto_rows": null,
            "grid_column": null,
            "grid_gap": null,
            "grid_row": null,
            "grid_template_areas": null,
            "grid_template_columns": null,
            "grid_template_rows": null,
            "height": null,
            "justify_content": null,
            "justify_items": null,
            "left": null,
            "margin": null,
            "max_height": null,
            "max_width": null,
            "min_height": null,
            "min_width": null,
            "object_fit": null,
            "object_position": null,
            "order": null,
            "overflow": null,
            "overflow_x": null,
            "overflow_y": null,
            "padding": null,
            "right": null,
            "top": null,
            "visibility": null,
            "width": null
          }
        },
        "bd0113a06f2946808ef1ade0cbfe53fa": {
          "model_module": "@jupyter-widgets/controls",
          "model_name": "ProgressStyleModel",
          "model_module_version": "1.5.0",
          "state": {
            "_model_module": "@jupyter-widgets/controls",
            "_model_module_version": "1.5.0",
            "_model_name": "ProgressStyleModel",
            "_view_count": null,
            "_view_module": "@jupyter-widgets/base",
            "_view_module_version": "1.2.0",
            "_view_name": "StyleView",
            "bar_color": null,
            "description_width": ""
          }
        },
        "5080c8e1e66b4c82a24908a431a0c4ab": {
          "model_module": "@jupyter-widgets/controls",
          "model_name": "VBoxModel",
          "model_module_version": "1.5.0",
          "state": {
            "_dom_classes": [],
            "_model_module": "@jupyter-widgets/controls",
            "_model_module_version": "1.5.0",
            "_model_name": "VBoxModel",
            "_view_count": null,
            "_view_module": "@jupyter-widgets/controls",
            "_view_module_version": "1.5.0",
            "_view_name": "VBoxView",
            "box_style": "",
            "children": [
              "IPY_MODEL_2b59b8d811404e3688bfe9b5eb739f12",
              "IPY_MODEL_fe72f59b59c9483f86d4668d4e790151"
            ],
            "layout": "IPY_MODEL_ad95e3bf1961448f86295fa996470b0c"
          }
        },
        "2b59b8d811404e3688bfe9b5eb739f12": {
          "model_module": "@jupyter-widgets/controls",
          "model_name": "LabelModel",
          "model_module_version": "1.5.0",
          "state": {
            "_dom_classes": [],
            "_model_module": "@jupyter-widgets/controls",
            "_model_module_version": "1.5.0",
            "_model_name": "LabelModel",
            "_view_count": null,
            "_view_module": "@jupyter-widgets/controls",
            "_view_module_version": "1.5.0",
            "_view_name": "LabelView",
            "description": "",
            "description_tooltip": null,
            "layout": "IPY_MODEL_5f5a00da97bb45a780706fc383335c74",
            "placeholder": "​",
            "style": "IPY_MODEL_880c2c98aff54f9f9d767c9a30f53b03",
            "value": "0.012 MB of 0.012 MB uploaded\r"
          }
        },
        "fe72f59b59c9483f86d4668d4e790151": {
          "model_module": "@jupyter-widgets/controls",
          "model_name": "FloatProgressModel",
          "model_module_version": "1.5.0",
          "state": {
            "_dom_classes": [],
            "_model_module": "@jupyter-widgets/controls",
            "_model_module_version": "1.5.0",
            "_model_name": "FloatProgressModel",
            "_view_count": null,
            "_view_module": "@jupyter-widgets/controls",
            "_view_module_version": "1.5.0",
            "_view_name": "ProgressView",
            "bar_style": "",
            "description": "",
            "description_tooltip": null,
            "layout": "IPY_MODEL_aa3052c687114bf7a0136d53362b9778",
            "max": 1,
            "min": 0,
            "orientation": "horizontal",
            "style": "IPY_MODEL_e0e0a55571b64a2983d0a167d91241d0",
            "value": 1
          }
        },
        "ad95e3bf1961448f86295fa996470b0c": {
          "model_module": "@jupyter-widgets/base",
          "model_name": "LayoutModel",
          "model_module_version": "1.2.0",
          "state": {
            "_model_module": "@jupyter-widgets/base",
            "_model_module_version": "1.2.0",
            "_model_name": "LayoutModel",
            "_view_count": null,
            "_view_module": "@jupyter-widgets/base",
            "_view_module_version": "1.2.0",
            "_view_name": "LayoutView",
            "align_content": null,
            "align_items": null,
            "align_self": null,
            "border": null,
            "bottom": null,
            "display": null,
            "flex": null,
            "flex_flow": null,
            "grid_area": null,
            "grid_auto_columns": null,
            "grid_auto_flow": null,
            "grid_auto_rows": null,
            "grid_column": null,
            "grid_gap": null,
            "grid_row": null,
            "grid_template_areas": null,
            "grid_template_columns": null,
            "grid_template_rows": null,
            "height": null,
            "justify_content": null,
            "justify_items": null,
            "left": null,
            "margin": null,
            "max_height": null,
            "max_width": null,
            "min_height": null,
            "min_width": null,
            "object_fit": null,
            "object_position": null,
            "order": null,
            "overflow": null,
            "overflow_x": null,
            "overflow_y": null,
            "padding": null,
            "right": null,
            "top": null,
            "visibility": null,
            "width": null
          }
        },
        "5f5a00da97bb45a780706fc383335c74": {
          "model_module": "@jupyter-widgets/base",
          "model_name": "LayoutModel",
          "model_module_version": "1.2.0",
          "state": {
            "_model_module": "@jupyter-widgets/base",
            "_model_module_version": "1.2.0",
            "_model_name": "LayoutModel",
            "_view_count": null,
            "_view_module": "@jupyter-widgets/base",
            "_view_module_version": "1.2.0",
            "_view_name": "LayoutView",
            "align_content": null,
            "align_items": null,
            "align_self": null,
            "border": null,
            "bottom": null,
            "display": null,
            "flex": null,
            "flex_flow": null,
            "grid_area": null,
            "grid_auto_columns": null,
            "grid_auto_flow": null,
            "grid_auto_rows": null,
            "grid_column": null,
            "grid_gap": null,
            "grid_row": null,
            "grid_template_areas": null,
            "grid_template_columns": null,
            "grid_template_rows": null,
            "height": null,
            "justify_content": null,
            "justify_items": null,
            "left": null,
            "margin": null,
            "max_height": null,
            "max_width": null,
            "min_height": null,
            "min_width": null,
            "object_fit": null,
            "object_position": null,
            "order": null,
            "overflow": null,
            "overflow_x": null,
            "overflow_y": null,
            "padding": null,
            "right": null,
            "top": null,
            "visibility": null,
            "width": null
          }
        },
        "880c2c98aff54f9f9d767c9a30f53b03": {
          "model_module": "@jupyter-widgets/controls",
          "model_name": "DescriptionStyleModel",
          "model_module_version": "1.5.0",
          "state": {
            "_model_module": "@jupyter-widgets/controls",
            "_model_module_version": "1.5.0",
            "_model_name": "DescriptionStyleModel",
            "_view_count": null,
            "_view_module": "@jupyter-widgets/base",
            "_view_module_version": "1.2.0",
            "_view_name": "StyleView",
            "description_width": ""
          }
        },
        "aa3052c687114bf7a0136d53362b9778": {
          "model_module": "@jupyter-widgets/base",
          "model_name": "LayoutModel",
          "model_module_version": "1.2.0",
          "state": {
            "_model_module": "@jupyter-widgets/base",
            "_model_module_version": "1.2.0",
            "_model_name": "LayoutModel",
            "_view_count": null,
            "_view_module": "@jupyter-widgets/base",
            "_view_module_version": "1.2.0",
            "_view_name": "LayoutView",
            "align_content": null,
            "align_items": null,
            "align_self": null,
            "border": null,
            "bottom": null,
            "display": null,
            "flex": null,
            "flex_flow": null,
            "grid_area": null,
            "grid_auto_columns": null,
            "grid_auto_flow": null,
            "grid_auto_rows": null,
            "grid_column": null,
            "grid_gap": null,
            "grid_row": null,
            "grid_template_areas": null,
            "grid_template_columns": null,
            "grid_template_rows": null,
            "height": null,
            "justify_content": null,
            "justify_items": null,
            "left": null,
            "margin": null,
            "max_height": null,
            "max_width": null,
            "min_height": null,
            "min_width": null,
            "object_fit": null,
            "object_position": null,
            "order": null,
            "overflow": null,
            "overflow_x": null,
            "overflow_y": null,
            "padding": null,
            "right": null,
            "top": null,
            "visibility": null,
            "width": null
          }
        },
        "e0e0a55571b64a2983d0a167d91241d0": {
          "model_module": "@jupyter-widgets/controls",
          "model_name": "ProgressStyleModel",
          "model_module_version": "1.5.0",
          "state": {
            "_model_module": "@jupyter-widgets/controls",
            "_model_module_version": "1.5.0",
            "_model_name": "ProgressStyleModel",
            "_view_count": null,
            "_view_module": "@jupyter-widgets/base",
            "_view_module_version": "1.2.0",
            "_view_name": "StyleView",
            "bar_color": null,
            "description_width": ""
          }
        }
      }
    }
  },
  "nbformat": 4,
  "nbformat_minor": 0
}